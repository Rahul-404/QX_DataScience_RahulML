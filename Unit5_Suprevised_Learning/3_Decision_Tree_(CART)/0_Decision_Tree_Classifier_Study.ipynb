{
 "cells": [
  {
   "cell_type": "markdown",
   "metadata": {},
   "source": [
    "# 🌟 Introduction"
   ]
  },
  {
   "cell_type": "markdown",
   "metadata": {},
   "source": [
    "### Decision Tree can be summarized with the below bullet points:"
   ]
  },
  {
   "cell_type": "markdown",
   "metadata": {},
   "source": [
    "<ul>\n",
    "<li>Decision trees are predictive models that use a set of binary rules to calculate a target value.</li>\n",
    "<li>Each individual tree is a fairly simple model that has brancges, nodes and leaves.</li>\n",
    "</ul>    "
   ]
  },
  {
   "cell_type": "markdown",
   "metadata": {},
   "source": [
    "# ⭕️ Important Terminology"
   ]
  },
  {
   "cell_type": "markdown",
   "metadata": {},
   "source": [
    "### Before diving into let's llok at the basic terminology used with decision trees:"
   ]
  },
  {
   "cell_type": "markdown",
   "metadata": {},
   "source": [
    "<ol>\n",
    "<li><h4>Root Node:</h4> It represents entire population or sample and this furthet gets divided in to two or more homogeneous sets.</li>\n",
    "<li><h4>Splitting:</h4> It is a process of deviding a node into two or more sun-nodes</li>\n",
    "<li><h4>Decision Node:</h4> When a sub-node splits into further sub-node, then it is called decision node.</li>\n",
    "<li><h4>Leaf/Terminal Node:</h4> Node do not split is called Leaf or Terminal node.</li>\n",
    "<li><h4>Pruning:</h4> When we remove sub-nodes of a decision node, this process is called pruning. You can say opposite process of splitting.</li>    \n",
    "<li><h4>Branch / Sub-Tree:</h4> A sub section of entire tree is called branch or sub-tree.</li>\n",
    "<li><h4>Parent and Child Node:</h4> A node, which is devided into sub-node is called parent node of sun-nodes where as sub-nodes are the child of parent node.</li>    \n",
    "</ol>"
   ]
  },
  {
   "cell_type": "markdown",
   "metadata": {},
   "source": [
    "# ❓ How does it work?"
   ]
  },
  {
   "cell_type": "markdown",
   "metadata": {},
   "source": [
    "<p>A decision tree is arriving at an estimate by asking a series of questions to the data, each question narrowing our possible values until the model get confident enough to make a single prediction. The oreder of the question as well as their content are being determined by the model. In addition, the questions asked are all in a True/False form.</p>\n",
    "<br>\n",
    "<p>This is a little tough to grasp because it is not how humans naturall think, and perhaps the best way to show this difference is to create a real decision tree from. In the above problem x1, x2 are two features wich allow us to make predictions for the target variable y by asking True/False questions.</p>"
   ]
  },
  {
   "cell_type": "markdown",
   "metadata": {},
   "source": [
    "<img src='img/decision_tree_regressor_1.png'> "
   ]
  },
  {
   "cell_type": "markdown",
   "metadata": {},
   "source": [
    "<p>For each True and False answer there are seoarate branches. No matter the answers to the questions, we eventually reach a prediction(leaf node). Start at the root node at the top and progress through the tree answering the questions along the way. So given any pair of X1 , X2.</p><br>\n",
    "<p> One aspect of the decision tree I should mention is how it actually learns (how the 'questions' are formed and how the thresholds are set). As a supervised machine learning model, a decision tree learns to map data to outputs in what is called the training phase of model building.</p><br>\n",
    "<p>During training, the model is fitted with any historical data that is relevant to the problem domain and the true value we want the model to learn to predict. The model learns any relationships between the data and the target variable.</p><br>\n",
    "<p> After the training phase, the decision tree produces a tree similar to the one shown above, calculating the best question as well as their order to ask in order to make the most accurate estimates possible. When we want to make a prediction the same data format should be provided to the model in order to make a prediction. <h5>The prediction will be an estimate based on the train data that it has been trained on.</h5></p>"
   ]
  },
  {
   "cell_type": "markdown",
   "metadata": {},
   "source": [
    "# 🔗 How is splitting Decided for Decision Trees?"
   ]
  },
  {
   "cell_type": "markdown",
   "metadata": {},
   "source": [
    "## Attribute Selection Measures"
   ]
  },
  {
   "cell_type": "markdown",
   "metadata": {},
   "source": [
    "While implementing a Decision tree, the main issue arises that how to select the best attribute for the root node and for sub-nodes. So, to solve such problems there is a technique which is called as <b>Attribute selection measure or ASM.</b> By this measurement, we can easily select the best attribute for the nodes of the tree. There are two popular techniques for ASM, which are:"
   ]
  },
  {
   "cell_type": "markdown",
   "metadata": {},
   "source": [
    "<ul>\n",
    "    <li><b>Information Gain</b></li>\n",
    "    <li><b>Gini Index</b></li>\n",
    "</ul>"
   ]
  },
  {
   "cell_type": "markdown",
   "metadata": {},
   "source": [
    "## 1. Information Gain:"
   ]
  },
  {
   "cell_type": "markdown",
   "metadata": {},
   "source": [
    "<ul>\n",
    "    <li>Information gain is the measurement of changes in entropy after the segmentation of a dataset based on an attribute.</li>\n",
    "    <li>It calculates how much information a feature provides us about a class.</li>\n",
    "    <li>According to the value of information gain, we split the node and build the decision tree.</li>\n",
    "    <li>A decision tree algorithm always tries to maximize the value of information gain, and a node/attribute having the highest information gain is split first. It can be calculated using the below formula:</li>\n",
    "</ul>"
   ]
  },
  {
   "cell_type": "markdown",
   "metadata": {},
   "source": [
    "<b>Information Gain= Entropy(S)- [(Weighted Avg) *Entropy(each feature)]  </b>"
   ]
  },
  {
   "cell_type": "markdown",
   "metadata": {},
   "source": [
    "<b>Where,</b>\n",
    "<ul>\n",
    "    <li><b>S= Total number of samples</b></li>\n",
    "    <li><b>P(yes)= probability of yes</b></li>\n",
    "    <li><b>P(no)= probability of no</b></li>\n",
    "</ul>"
   ]
  },
  {
   "cell_type": "markdown",
   "metadata": {},
   "source": [
    "<b>Entropy:</b> Entropy is a metric to measure the impurity in a given attribute. It specifies randomness in data. Entropy can be calculated as:"
   ]
  },
  {
   "cell_type": "markdown",
   "metadata": {},
   "source": [
    "<img src='img/decision_tree_regressor_5.png'> "
   ]
  },
  {
   "cell_type": "markdown",
   "metadata": {},
   "source": [
    "## 2. Gini Index:"
   ]
  },
  {
   "cell_type": "markdown",
   "metadata": {},
   "source": [
    "<ul>\n",
    "    <li>Gini index is a measure of impurity or purity used while creating a decision tree in the CART(Classification and Regression Tree) algorithm.</li>\n",
    "    <li>It only creates binary splits, and the CART algorithm uses the Gini index to create binary splits.\n",
    "</li>\n",
    "    <li>Gini index can be calculated using the below formula:\n",
    "</li>\n",
    "</ul>"
   ]
  },
  {
   "cell_type": "markdown",
   "metadata": {},
   "source": [
    "<img src='img/decision_tree_regressor_6.png'> "
   ]
  },
  {
   "cell_type": "markdown",
   "metadata": {},
   "source": [
    "# 🔊 Questions and Answers"
   ]
  },
  {
   "cell_type": "markdown",
   "metadata": {},
   "source": [
    "## Are there circumstances when it is better to split into 3 groups ?\n",
    "\n",
    "### - It is never necessary to do more than one split at a level because you can just split  them again.\n",
    "\n",
    "## How it makes Predictions ?\n",
    "\n",
    "### - Given a data point you run it through the entirely tree asking True/False questions up until it reaches a leaf node. The final prediction is the voting of the value of the dependent variable in that leaf node."
   ]
  },
  {
   "cell_type": "markdown",
   "metadata": {},
   "source": [
    "## Since we try every variable and every possible value of that varibale to decide a split. Would the training be computationally expensive?\n",
    "\n",
    "### - This is where it;s very good to remember that CPUs preformance of today's computers is measured in gigahertz which is billions of clock cycles per secong and it has multiple cores and each core has something called single instruction, multiple data (SIMD) where it can do up to eight computations per core at once. In addition if a GPU is being used the process is even faster since its performance is measured in teraflops so trillions of floating-point operations per second. So this is where when it comes to designing algorithms it's very difficult for us more huamns to realize how stupid algoritjms  should be given how fast today's compters are. To sum up there are quite a few operations but taht trillions per second you hardly notice it."
   ]
  },
  {
   "cell_type": "markdown",
   "metadata": {},
   "source": [
    "## A DT with depth n it will contain the DT with depth n-1 given the same data, hyperparameters ?\n",
    "\n",
    "### - So if we create a tree with a depth of three and another one where we get rid of the max depth, the tree without the max depth consider will contain the tree with the depth of three. this assumes that the data, hyperoarameters will be the same and no randomness have been added(the deeper tree will contain the less deep tree)."
   ]
  },
  {
   "cell_type": "markdown",
   "metadata": {},
   "source": [
    "# ❌ When not to use?"
   ]
  },
  {
   "cell_type": "markdown",
   "metadata": {},
   "source": [
    "As we saw previously, a decision tree will be unable to make accurate predictions if the data that are provided to split out a prediction are unrelated with the data haht it has been trainded on. Let's demonstrate that argument with an example:"
   ]
  },
  {
   "cell_type": "code",
   "execution_count": 1,
   "metadata": {},
   "outputs": [],
   "source": [
    "#Importing required libraries\n",
    "import pandas as pd\n",
    "import numpy as np\n",
    "from sklearn.datasets import load_iris\n",
    "from sklearn.tree import DecisionTreeClassifier\n",
    "from sklearn.model_selection import train_test_split"
   ]
  },
  {
   "cell_type": "code",
   "execution_count": 2,
   "metadata": {},
   "outputs": [
    {
     "name": "stdout",
     "output_type": "stream",
     "text": [
      "Classes to predict:  ['setosa' 'versicolor' 'virginica']\n"
     ]
    }
   ],
   "source": [
    "#Loading the iris data\n",
    "data = load_iris()\n",
    "print('Classes to predict: ', data.target_names)"
   ]
  },
  {
   "cell_type": "markdown",
   "metadata": {},
   "source": [
    "Please note that DecisionTreeRegsressor expect a 2D array (or an array of rank 2) and not an 1D array into a 2D array."
   ]
  },
  {
   "cell_type": "code",
   "execution_count": 3,
   "metadata": {},
   "outputs": [
    {
     "name": "stdout",
     "output_type": "stream",
     "text": [
      "Number of examples in the data: 150\n"
     ]
    }
   ],
   "source": [
    "#Extracting data attributes\n",
    "X = data.data\n",
    "### Extracting target/ class labels\n",
    "y = data.target\n",
    "\n",
    "print('Number of examples in the data:', X.shape[0])"
   ]
  },
  {
   "cell_type": "markdown",
   "metadata": {},
   "source": [
    "We're now going to build a decision tree model and what kind of acts as if this is a time series problem. So I'm going to take left part as a training set. And take the right part as our validation set."
   ]
  },
  {
   "cell_type": "code",
   "execution_count": 4,
   "metadata": {},
   "outputs": [],
   "source": [
    "#Using the train_test_split to create train and test sets.\n",
    "X_train, X_test, y_train, y_test = train_test_split(X, y, random_state = 47, test_size = 0.25)"
   ]
  },
  {
   "cell_type": "code",
   "execution_count": 6,
   "metadata": {},
   "outputs": [],
   "source": [
    "#Importing the Decision tree classifier from the sklearn library.\n",
    "from sklearn.tree import DecisionTreeClassifier\n",
    "clf = DecisionTreeClassifier(criterion = 'entropy')\n",
    "#Training the decision tree classifier. \n",
    "clf.fit(X_train, y_train)\n",
    "#Predicting labels on the test set.\n",
    "y_pred =  clf.predict(X_test)"
   ]
  },
  {
   "cell_type": "code",
   "execution_count": 7,
   "metadata": {},
   "outputs": [
    {
     "name": "stdout",
     "output_type": "stream",
     "text": [
      "Accuracy Score on train data:  1.0\n",
      "Accuracy Score on test data:  0.9473684210526315\n"
     ]
    }
   ],
   "source": [
    "#Importing the accuracy metric from sklearn.metrics library\n",
    "\n",
    "from sklearn.metrics import accuracy_score\n",
    "print('Accuracy Score on train data: ', accuracy_score(y_true=y_train, y_pred=clf.predict(X_train)))\n",
    "print('Accuracy Score on test data: ', accuracy_score(y_true=y_test, y_pred=y_pred))"
   ]
  },
  {
   "cell_type": "code",
   "execution_count": 8,
   "metadata": {},
   "outputs": [
    {
     "name": "stdout",
     "output_type": "stream",
     "text": [
      "Accuracy Score on train data:  0.9553571428571429\n",
      "Accuracy Score on the test data:  0.9736842105263158\n"
     ]
    }
   ],
   "source": [
    "clf = DecisionTreeClassifier(criterion='entropy', min_samples_split=50)\n",
    "clf.fit(X_train, y_train)\n",
    "print('Accuracy Score on train data: ', accuracy_score(y_true=y_train, y_pred=clf.predict(X_train)))\n",
    "print('Accuracy Score on the test data: ', accuracy_score(y_true=y_test, y_pred=clf.predict(X_test)))"
   ]
  },
  {
   "cell_type": "markdown",
   "metadata": {},
   "source": [
    "If you don't know how decision trees work then this is going to render the model useless. In other words, decision tree and tree based models in general are unable to extrapolate to any kind of data they haven't seen before, particularly future time period as it's just averaging data points it has already seen."
   ]
  },
  {
   "cell_type": "markdown",
   "metadata": {},
   "source": [
    "<b>In a nutshell Decision trees and tree based models in general just do a clever nearest neighbours.</b>"
   ]
  },
  {
   "cell_type": "markdown",
   "metadata": {},
   "source": [
    "In this kind of problems where any tree based algorithm is useless neural net or lienar regression model are the preferred models. The reason is that you want to use a model that actually has a function or shape that can actually fit something so it can extrapolate nicely."
   ]
  },
  {
   "cell_type": "markdown",
   "metadata": {},
   "source": [
    "<img src='img/decision_tree_regressor_2.png'>"
   ]
  },
  {
   "cell_type": "markdown",
   "metadata": {},
   "source": [
    "<p>One major disadvantage of Decision Trees is that they are prone to overfitting. That's why they are rearly used and instead other tree based models are preferred like Random Forest and XGBoost.</p><br>\n",
    "<p>To sum up, Decision tree and general tree based methods are a type of supervised learning algorithm (having a pre=defined target varibale) that is mostly used in classification problems. As noted above they are used in regression problems if and only if the target variable is inside the range of values that they have seen in the train dataset. </p>"
   ]
  },
  {
   "cell_type": "markdown",
   "metadata": {},
   "source": [
    "# ⚔️ Advantage & Disadvantages of Decision Trees"
   ]
  },
  {
   "cell_type": "markdown",
   "metadata": {},
   "source": [
    "## Advantages\n",
    "<br>\n",
    "<ol>\n",
    "    <b><li>It can be used for both classification and Regression pronlems.</li></b>\n",
    "    <b><li>Easy to Understand, Interpret, Visualise</li></b>\n",
    "    <li><b>Usefil in Data exploration :</b> Decision tree is one of the fastest way to identify most significant variables and relation between two or more variables. With the help of decision trees.</li>\n",
    "    <li><b>Less data preparation required :</b> It is not influenced by  outliers and missing values to a fair degree.</li>\n",
    "    <li><b>Data type is not a Constraint :</b> It can handle both numerical and categorical variables.</li>\n",
    "    <li><b>Non Parametric Method :</b> Decision tree is considered to be a non-parametric method. This means that decision trees have no assumptions about the space distribution and the classifier structure.</li>\n",
    "    <li><b>Can capture Nonlinear relationships</b></li>\n",
    "</ol>"
   ]
  },
  {
   "cell_type": "markdown",
   "metadata": {},
   "source": [
    "## Disadvantages"
   ]
  },
  {
   "cell_type": "markdown",
   "metadata": {},
   "source": [
    "<ol>\n",
    "    <li><b>Over-fitting :</b> Over fitting is one of the most practical difficulty for decision tree models. This problem gets solved by setting constraints on model parameters and pruning.</li>\n",
    "    <li><b>Not fit for continuous variables :</b> While working with continuous numerical variables, decision tree looses information when it categorizes variables in different categories.</li>\n",
    "    <li><b>Cannot extrapolate.</b></li>\n",
    "    <li><b>Decision trees can be unstable :</b> Small variations in the data might result in a completely different tree being generated. This is called <u><b>variance</b></u>, which needs to be lowered by methods like <b>bagging</b> and <b><u>boosting</u>.</b></li>\n",
    "    <li><b>No Guarentee to return the globally optimal decision tree.</b> this can be mitigated by training multiple threes, where the features and samples are randomly sampled with replacement.</li>\n",
    "</ol>"
   ]
  },
  {
   "cell_type": "markdown",
   "metadata": {},
   "source": [
    "# ⚙️ Techniques to avoid over-fitting"
   ]
  },
  {
   "cell_type": "markdown",
   "metadata": {},
   "source": [
    "<p>Often you may find that you've overfitted your model to the data, Which is often detrimental to the model's performance when you introduce new data. If there is no limit set of a decision tree, it will give you a zero MSE on training set because in the worse case it will end up making 1 leaf for each observation. Thus, preventing overfitting is of major importance when training a decision tree and it can be done in 2 ways:</p>\n",
    "<ul>\n",
    "    <li>Setting constraints on tree size(fine-tune hyperparameters)</li>\n",
    "    <li>Tree pruning</li>\n",
    "    <li>Use a Random Forest</li>\n",
    "</ul>\n",
    "Let's discuss both of these briefly."
   ]
  },
  {
   "cell_type": "markdown",
   "metadata": {},
   "source": [
    "## Setting Constraints on Tree Size\n",
    "\n",
    "This can be done by fine-tuning some hyperparameters which are used to define a tree. Frist, let's look at the general structure of a decision tree:"
   ]
  },
  {
   "cell_type": "markdown",
   "metadata": {},
   "source": [
    "<img src='img/decision_tree_regressor_3.png'>"
   ]
  },
  {
   "cell_type": "markdown",
   "metadata": {},
   "source": [
    "By understanding the role of parameters used in tree modeling will help you to better fine-tuned a decision tree both in R & Python."
   ]
  },
  {
   "cell_type": "markdown",
   "metadata": {},
   "source": [
    "## Minimum samples for a node split\n",
    "<ul>\n",
    "    <li>Defines the minimum number of samples (or observations) whoch are required in a node to be considered for splitting.</li>\n",
    "    <li>Used to control over-fitting. Higher values prevent a model from learning relations  which might be highly specific to the particular sample selected for a tree.</li>\n",
    "    <li>Too <b>high values</b> can lead to <b>under-fitting</b> hence, it should be fine-tuned with care.</li>\n",
    "</ul>"
   ]
  },
  {
   "cell_type": "markdown",
   "metadata": {},
   "source": [
    "## Minimum samples for a terminal node(leaf)\n",
    "\n",
    "<ul>\n",
    "    <li>Defines the minimum samples (or observations) required ina terminal node or leaf.</li>\n",
    "    <li>Used to control over-fitting similar to Minimum samples for a node split.</li>\n",
    "    <li>Too <b>high values</b> can lead to <b>under-fitting</b> hence, it should be fine-tuned with care.</li>\n",
    "</ul>"
   ]
  },
  {
   "cell_type": "markdown",
   "metadata": {},
   "source": [
    "## Maximum depth of the tree(vertical depth)\n",
    "\n",
    "<ul>\n",
    "    <li>Used to control over-fitting as heigher depth will allow the model to learn realtions very specific to a particular sample.</li>\n",
    "    <li>Too <b>high values</b> can lead to <b>under-fitting</b> hence, it should be fine-tuned with care.</li>\n",
    "</ul>"
   ]
  },
  {
   "cell_type": "markdown",
   "metadata": {},
   "source": [
    "## Maximum features to consider for a split\n",
    "\n",
    "<ul>\n",
    "    <li>The number of features to consider while searching for the best split. These will be randomly selected.</li>\n",
    "    <li>As a thumb-rule, square root of the total number of features works great but we should check up to 30-40% of the total number of features.</li>\n",
    "    <li>Higher values can lead to over-fitting but depend on case to case</li>\n",
    "</ul>    "
   ]
  },
  {
   "cell_type": "markdown",
   "metadata": {},
   "source": [
    "# Tree Pruning"
   ]
  },
  {
   "cell_type": "markdown",
   "metadata": {},
   "source": [
    "<p>As discussed earlier, the technique of setting constraint is a greedy-approch. In other words, it will check for the n=best split instantaneously and move forward until one of the specified stopping condition is reached.</p>\n",
    "<br>\n",
    "<p>One of the questions that arise in a decision tree algorithm is the optimal size of the fianl tree. A tree that is too large risks <b><u>overfitting</u></b> the training data and poorly generalizing to new samples. A small tree might not capture important structural information about the sample space. However, it is hard to tell when a tree algorithm should atop because it is impossible to tell if the addition of a single extra node will dramatically decrease error. This problem is known as the <b><u>horizon effect</u>.</b> A common strategy is to grow the tree until each node contains a small number of instances then use pruning to remove nodes that do not provide additional information.</p>\n",
    "<br>\n",
    "<p>Pruning should reduce the size of a learning tree without reducing predictive accuracy as measured by a <b><u>cross-validation</u></b> set. There are many techniques for tree pruning that differ in the measurement that is used to optimize performance.</p>\n",
    "<br>\n",
    "<p>One of the simplest forms of pruning is reduced error pruning. Starting at the leaves, each node is replaced with its mean value. If the MSE is not affected then the change is kept. While somewhat naive, reduced error pruning has the advantage of <b><u>simplicity and speed.</u></b></p>"
   ]
  },
  {
   "cell_type": "markdown",
   "metadata": {},
   "source": [
    "# Use Random Forest\n",
    "\n",
    "It seems that not many people actually take the time to prune a decision tree or fine tuning but rather they select to use a random forest regressor (a collection of decision trees) which are less prone to overfitting and perform better than a single optimised tree."
   ]
  },
  {
   "cell_type": "markdown",
   "metadata": {},
   "source": [
    "# 🥊 Decision Trees Vs Random Forests"
   ]
  },
  {
   "cell_type": "markdown",
   "metadata": {},
   "source": [
    "<p>The common argument for using a decision tree over random forest is that decision trees are easier to interpret, you simply look at the decision tree logic. However, in a random forest, you're not goint to want to studey the decision tree logic of 500 different trees.</p>\n",
    "<br>\n",
    "<p>At the same time. Random Forest is actually a collection of Decision Trees which makes the algorithm slow and ineffective for real-time predictions. In general, RF can be fast to train, but quite slow to create predictions once they are trained. this is due to the fact that it has to run predictions on each individual tree and them average their predictions to create the final prediction.<b>(a solution to that can be to use cluster fitting different trees at the same time)</b></p>\n",
    "<br>\n",
    "<p>A more accurate prediction requires more trees, which results in a slower model. In most real-world applications the random forest algorithm is fast enough, but there can certainly be situations where run-time perfrmance is important and other approches would be preferred.</p>\n",
    "<br>\n",
    "<p>Finally, Decision Trees do suffer from overfitting while Random Forest can prevent overfitting resulting in better prediction most of the time.This is a significant advantage of the Random Forest regression model fact which makes it more appealing to a lot of data scientists.</p>\n",
    "<br>"
   ]
  },
  {
   "cell_type": "markdown",
   "metadata": {},
   "source": [
    "# 🆚 Tree-based models Vs Linear models"
   ]
  },
  {
   "cell_type": "markdown",
   "metadata": {},
   "source": [
    "Actually, you can use any algorithm. It is dependent on the type of problem you aer solving. Let's look at some key factors which will help you to decide which a;gorithm to use:\n",
    "<ol>\n",
    "    <li>If the relationship between dependent & independent variable is well approximated by a linear model, linear regression will outperform tree based model.</li>\n",
    "   <li>If there is a high non-linearity & complex relationship between dependent & independent variables, a tree model will outperform a classical regression method.</li>\n",
    "    <li>If you need to build a model which is easy to explain to people, a decision tree model will always do better than a linear model. decision tree model will always do better than a linear model. Decision tree models are even simpler to interpret than linear regression!</li>\n",
    "</ol>    "
   ]
  },
  {
   "cell_type": "markdown",
   "metadata": {},
   "source": [
    "Let's prove our argument on point 1 and 2 with an example:"
   ]
  },
  {
   "cell_type": "code",
   "execution_count": 5,
   "metadata": {},
   "outputs": [
    {
     "data": {
      "text/plain": [
       "<matplotlib.collections.PathCollection at 0x210906d4908>"
      ]
     },
     "execution_count": 5,
     "metadata": {},
     "output_type": "execute_result"
    },
    {
     "data": {
      "image/png": "[encoded data removed]",
      "text/plain": [
       "<Figure size 1440x720 with 1 Axes>"
      ]
     },
     "metadata": {
      "needs_background": "light"
     },
     "output_type": "display_data"
    }
   ],
   "source": [
    "import numpy as np\n",
    "import matplotlib.pyplot as plt\n",
    "from sklearn.tree import DecisionTreeRegressor\n",
    "from sklearn.linear_model import LinearRegression\n",
    "plt.figure(figsize=(20,10))\n",
    "x = np.linspace(0,2,10000)\n",
    "y = 1 + 3*x\n",
    "plt.scatter(x,y)"
   ]
  },
  {
   "cell_type": "markdown",
   "metadata": {},
   "source": [
    "We're now going to build a decision tree and a linear model. We expect the linear model to fit perfectly as the target variable is lienarly related to feature x. So I'm going to shuffle the data and consider 70% as a training set and 30% as validation."
   ]
  },
  {
   "cell_type": "code",
   "execution_count": 6,
   "metadata": {},
   "outputs": [],
   "source": [
    "idxs_train = sorted(np.random.permutation(len(x))[:int(0.7*len(x))])\n",
    "idx_test = [i for i in range(0,len(x)) if i not in idxs_train]\n",
    "\n",
    "# train, validation set split\n",
    "x_trn, x_val = x[idxs_train, None], x[idx_test, None]\n",
    "y_trn, y_val = y[idxs_train, None], y[idx_test, None]\n",
    "\n",
    "# fit a model\n",
    "dt = DecisionTreeRegressor(max_depth=3).fit(x_trn, y_trn)\n",
    "l = LinearRegression().fit(x_trn, y_trn)"
   ]
  },
  {
   "cell_type": "markdown",
   "metadata": {},
   "source": [
    "Please note that both models expect a 2D array (or an array of rank 2) and not a 1D array into a 2D array. Let's now plot the result:"
   ]
  },
  {
   "cell_type": "code",
   "execution_count": 12,
   "metadata": {},
   "outputs": [
    {
     "data": {
      "text/plain": [
       "<matplotlib.legend.Legend at 0x210929afbe0>"
      ]
     },
     "execution_count": 12,
     "metadata": {},
     "output_type": "execute_result"
    },
    {
     "data": {
      "image/png": "[encoded data removed]",
      "text/plain": [
       "<Figure size 1440x720 with 1 Axes>"
      ]
     },
     "metadata": {
      "needs_background": "light"
     },
     "output_type": "display_data"
    }
   ],
   "source": [
    "plt.figure(figsize=(20,10))\n",
    "plt.scatter(x, dt.predict(x[:,None]), color='blue', label='Prediction DT')\n",
    "plt.scatter(x,l.predict(x[:, None]), color='green', label='Prediction Linear')\n",
    "plt.scatter(x,y, color='red', label='Actual')\n",
    "plt.legend(loc='upper left')"
   ]
  },
  {
   "cell_type": "markdown",
   "metadata": {},
   "source": [
    "In a way, Decision tree tries to fit a staircase. Obviously, in this case, linear model works nicely but on other cases where the target variable in not linearly correlated with the input features a DT will be a better option as it will be able to capture nonlinearities. "
   ]
  },
  {
   "cell_type": "markdown",
   "metadata": {},
   "source": [
    "# 📊 Visualise a Decision Tree model"
   ]
  },
  {
   "cell_type": "markdown",
   "metadata": {},
   "source": [
    "<p>Visualising a Decision Tree is fairly simple. Let's draw the decision tree that was trained above.</p>\n",
    "<br>\n",
    "First, We will need to import some additional libraries:"
   ]
  },
  {
   "cell_type": "code",
   "execution_count": 13,
   "metadata": {},
   "outputs": [],
   "source": [
    "from sklearn.tree import export_graphviz\n",
    "import IPython, graphviz, re, math"
   ]
  },
  {
   "cell_type": "markdown",
   "metadata": {},
   "source": [
    "And then we can simply draw the Decision Tree as below:"
   ]
  },
  {
   "cell_type": "code",
   "execution_count": 15,
   "metadata": {},
   "outputs": [],
   "source": [
    "# def draw_tree(t, col_names, size=9, ratio=0.5, precision=3):\n",
    "#     \"\"\" Draws a representation of a random forest in IPython.\n",
    "#     Parameters:\n",
    "#     -----------\n",
    "#     t: The tree you wish to draw\n",
    "#     df: The data used to train the tree. This is used to get the names of the features.\n",
    "#     \"\"\"\n",
    "#     s=export_graphviz(t, out_file=None, feature_names=col_names, filled=True,\n",
    "#                       special_characters=True, rotate=True, precision=precision)\n",
    "#     IPython.display.display(graphviz.Source(re.sub('Tree {',\n",
    "#        f'Tree {{ size={size}; ratio={ratio}',s)))\n",
    "# col_names =['X']\n",
    "# draw_tree(dt, col_names, precision=3)"
   ]
  },
  {
   "cell_type": "markdown",
   "metadata": {},
   "source": [
    "<img src='img/decision_tree_regressor_4.png'>"
   ]
  },
  {
   "cell_type": "markdown",
   "metadata": {},
   "source": [
    "As you can see we're taking a subset of the data, and deciding the best manner to split the subset further. Our initial subset was the entire data set, and we split it accoreding to rule <b> x <= 1.001</b>. Then, for each subset, we performed additional splitting until we were able to correctly predict the target variable while respecting the constraint of <b>max_depth=3</b>."
   ]
  },
  {
   "cell_type": "markdown",
   "metadata": {},
   "source": [
    "# 🤖 Conclusion"
   ]
  },
  {
   "cell_type": "markdown",
   "metadata": {},
   "source": [
    "Decision trees are one of the most widely-used machine learning models, due to the fact that they work well with noisy or missing data and can easily be <b>ensembled</b> to form more robust predictors. Moreover, you can directly visual your model's learned logic, which means that it's an incredibly popular model for domains where model interpretability is important."
   ]
  }
 ],
 "metadata": {
  "kernelspec": {
   "display_name": "Python 3",
   "language": "python",
   "name": "python3"
  },
  "language_info": {
   "codemirror_mode": {
    "name": "ipython",
    "version": 3
   },
   "file_extension": ".py",
   "mimetype": "text/x-python",
   "name": "python",
   "nbconvert_exporter": "python",
   "pygments_lexer": "ipython3",
   "version": "3.6.4"
  }
 },
 "nbformat": 4,
 "nbformat_minor": 4
}
