{
 "cells": [
  {
   "cell_type": "markdown",
   "metadata": {},
   "source": [
    "# Ridge and Lasso Regression"
   ]
  },
  {
   "cell_type": "markdown",
   "metadata": {},
   "source": [
    "# 1. Brief Overview"
   ]
  },
  {
   "cell_type": "markdown",
   "metadata": {},
   "source": [
    "Ridge and Lasso regression are powerful techniques generally used for creating parsimonious models in presence of a ‘large’ number of features. Here ‘large’ can typically mean either of two things:"
   ]
  },
  {
   "cell_type": "markdown",
   "metadata": {},
   "source": [
    "<ol>\n",
    "<li>Large enough to enhance the tendency of a model to overfit (as low as 10 variables might cause overfitting)</li>\n",
    "<li>Large enough to cause computational challenges. With modern systems, this situation might arise in case of millions or billions of features</li>\n",
    "</ol>"
   ]
  },
  {
   "cell_type": "markdown",
   "metadata": {},
   "source": [
    "Though Ridge and Lasso might appear to work towards a common goal, the inherent properties and practical use cases differ substantially. If you’ve heard of them before, you must know that they work by penalizing the magnitude of coefficients of features along with minimizing the error between predicted and actual observations. These are called ‘regularization’ techniques. The key difference is in how they assign penalty to the coefficients:"
   ]
  },
  {
   "cell_type": "markdown",
   "metadata": {},
   "source": [
    "<ol>\n",
    "<li><b>Ridge Regression:</b></li>\n",
    "<ul>\n",
    "    <li>Performs L2 regularization, i.e. adds penalty equivalent to <b>square of the magnitude</b> of coefficients</li>\n",
    "<li>Minimization objective = LS Obj + α * (sum of square of coefficients)</li>\n",
    "</ul>\n",
    "<li><b>Lasso Regression:</b></li>\n",
    "<ul>\n",
    "<li>Performs L1 regularization, i.e. adds penalty equivalent to <b>absolute value of the magnitude</b> of coefficients</li>\n",
    "<li>Minimization objective = LS Obj + α * (sum of absolute value of coefficients)</li>\n",
    "</ul>\n",
    "</ol>"
   ]
  },
  {
   "cell_type": "markdown",
   "metadata": {},
   "source": [
    "Note that here ‘LS Obj’ refers to ‘least squares objective’, i.e. the linear regression objective without regularization."
   ]
  },
  {
   "cell_type": "markdown",
   "metadata": {},
   "source": [
    "If terms like ‘penalty’ and ‘regularization’ seem very unfamiliar to you, don’t worry we’ll talk about these in more detail through the course of this article. Before digging further into how they work, lets try to get some intuition into why penalizing the magnitude of coefficients should work in the first place."
   ]
  },
  {
   "cell_type": "markdown",
   "metadata": {},
   "source": [
    "# 2. Why Penalize the Magnitude of Coefficients?"
   ]
  },
  {
   "cell_type": "markdown",
   "metadata": {},
   "source": [
    "Lets try to understand the impact of model complexity on the magnitude of coefficients. As an example, I have simulated a <b>sine curve</b> (between 60° and 300°) and added some random noise using the following code:"
   ]
  },
  {
   "cell_type": "code",
   "execution_count": 3,
   "metadata": {},
   "outputs": [
    {
     "data": {
      "text/plain": [
       "[<matplotlib.lines.Line2D at 0x201b164aa90>]"
      ]
     },
     "execution_count": 3,
     "metadata": {},
     "output_type": "execute_result"
    },
    {
     "data": {
      "image/png": "[encoded data removed]",
      "text/plain": [
       "<Figure size 864x720 with 1 Axes>"
      ]
     },
     "metadata": {
      "needs_background": "light"
     },
     "output_type": "display_data"
    }
   ],
   "source": [
    "#Importing libraries. The same will be used throughout the article.\n",
    "import numpy as np\n",
    "import pandas as pd\n",
    "import random\n",
    "import matplotlib.pyplot as plt\n",
    "%matplotlib inline\n",
    "from matplotlib.pylab import rcParams\n",
    "rcParams['figure.figsize'] = 12, 10\n",
    "import warnings\n",
    "warnings.filterwarnings('ignore')\n",
    "\n",
    "#Define input array with angles from 60deg to 300deg converted to radians\n",
    "x = np.array([i*np.pi/180 for i in range(60,300,4)])\n",
    "np.random.seed(10)  #Setting seed for reproducibility\n",
    "y = np.sin(x) + np.random.normal(0,0.15,len(x))\n",
    "data = pd.DataFrame(np.column_stack([x,y]),columns=['x','y'])\n",
    "plt.plot(data['x'],data['y'],'.')"
   ]
  },
  {
   "cell_type": "markdown",
   "metadata": {},
   "source": [
    "This resembles a sine curve but not exactly because of the noise. We’ll use this as an example to test different scenarios in this article. Let’s try to estimate the sine function using <b>polynomial regression</b> with powers of x from 1 to 15. Let’s add a column for each power upto 15 in our dataframe. This can be accomplished using the following code:"
   ]
  },
  {
   "cell_type": "code",
   "execution_count": 4,
   "metadata": {},
   "outputs": [
    {
     "name": "stdout",
     "output_type": "stream",
     "text": [
      "          x         y       x_2       x_3       x_4       x_5       x_6  \\\n",
      "0  1.047198  1.065763  1.096623  1.148381  1.202581  1.259340  1.318778   \n",
      "1  1.117011  1.006086  1.247713  1.393709  1.556788  1.738948  1.942424   \n",
      "2  1.186824  0.695374  1.408551  1.671702  1.984016  2.354677  2.794587   \n",
      "3  1.256637  0.949799  1.579137  1.984402  2.493673  3.133642  3.937850   \n",
      "4  1.326450  1.063496  1.759470  2.333850  3.095735  4.106339  5.446854   \n",
      "\n",
      "        x_7       x_8        x_9       x_10       x_11       x_12       x_13  \\\n",
      "0  1.381021  1.446202   1.514459   1.585938   1.660790   1.739176   1.821260   \n",
      "1  2.169709  2.423588   2.707173   3.023942   3.377775   3.773011   4.214494   \n",
      "2  3.316683  3.936319   4.671717   5.544505   6.580351   7.809718   9.268760   \n",
      "3  4.948448  6.218404   7.814277   9.819710  12.339811  15.506664  19.486248   \n",
      "4  7.224981  9.583578  12.712139  16.862020  22.366630  29.668222  39.353420   \n",
      "\n",
      "        x_14       x_15  \n",
      "0   1.907219   1.997235  \n",
      "1   4.707635   5.258479  \n",
      "2  11.000386  13.055521  \n",
      "3  24.487142  30.771450  \n",
      "4  52.200353  69.241170  \n"
     ]
    }
   ],
   "source": [
    "for i in range(2,16):  #power of 1 is already there\n",
    "    colname = 'x_%d'%i      #new var will be x_power\n",
    "    data[colname] = data['x']**i\n",
    "print(data.head())"
   ]
  },
  {
   "cell_type": "markdown",
   "metadata": {},
   "source": [
    "Now that we have all the 15 powers, let’s make 15 different linear regression models with each model containing variables with powers of x from 1 to the particular model number. For example, the feature set of model 8 will be – {x, x_2, x_3, … ,x_8}."
   ]
  },
  {
   "cell_type": "markdown",
   "metadata": {},
   "source": [
    "First, we’ll define a generic function which takes in the required maximum power of x as an input and returns a list containing – [ model RSS, intercept, coef_x, coef_x2, … upto entered power ]. Here RSS refers to ‘Residual Sum of Squares’ which is nothing but the sum of square of errors between the predicted and actual values in the training data set. The python code defining the function is:"
   ]
  },
  {
   "cell_type": "code",
   "execution_count": 5,
   "metadata": {},
   "outputs": [],
   "source": [
    "#Import Linear Regression model from scikit-learn.\n",
    "from sklearn.linear_model import LinearRegression\n",
    "def linear_regression(data, power, models_to_plot):\n",
    "    #initialize predictors:\n",
    "    predictors=['x']\n",
    "    if power>=2:\n",
    "        predictors.extend(['x_%d'%i for i in range(2,power+1)])\n",
    "    \n",
    "    #Fit the model\n",
    "    linreg = LinearRegression(normalize=True)\n",
    "    linreg.fit(data[predictors],data['y'])\n",
    "    y_pred = linreg.predict(data[predictors])\n",
    "    \n",
    "    #Check if a plot is to be made for the entered power\n",
    "    if power in models_to_plot:\n",
    "        plt.subplot(models_to_plot[power])\n",
    "        plt.tight_layout()\n",
    "        plt.plot(data['x'],y_pred)\n",
    "        plt.plot(data['x'],data['y'],'.')\n",
    "        plt.title('Plot for power: %d'%power)\n",
    "    \n",
    "    #Return the result in pre-defined format\n",
    "    rss = sum((y_pred-data['y'])**2)\n",
    "    ret = [rss]\n",
    "    ret.extend([linreg.intercept_])\n",
    "    ret.extend(linreg.coef_)\n",
    "    return ret"
   ]
  },
  {
   "cell_type": "markdown",
   "metadata": {},
   "source": [
    "Note that this function will not plot the model fit for all the powers but will return the RSS and coefficients for all the models. I’ll skip the details of the code for now to maintain brevity. I’ll be happy to discuss the same through comments below if required."
   ]
  },
  {
   "cell_type": "markdown",
   "metadata": {},
   "source": [
    "Now, we can make all 15 models and compare the results. For ease of analysis, we’ll store all the results in a Pandas dataframe and plot 6 models to get an idea of the trend. Consider the following code:"
   ]
  },
  {
   "cell_type": "code",
   "execution_count": 6,
   "metadata": {},
   "outputs": [
    {
     "data": {
      "image/png": "[encoded data removed]",
      "text/plain": [
       "<Figure size 864x720 with 6 Axes>"
      ]
     },
     "metadata": {
      "needs_background": "light"
     },
     "output_type": "display_data"
    }
   ],
   "source": [
    "#Initialize a dataframe to store the results:\n",
    "col = ['rss','intercept'] + ['coef_x_%d'%i for i in range(1,16)]\n",
    "ind = ['model_pow_%d'%i for i in range(1,16)]\n",
    "coef_matrix_simple = pd.DataFrame(index=ind, columns=col)\n",
    "\n",
    "#Define the powers for which a plot is required:\n",
    "models_to_plot = {1:231,3:232,6:233,9:234,12:235,15:236}\n",
    "\n",
    "#Iterate through all powers and assimilate results\n",
    "for i in range(1,16):\n",
    "    coef_matrix_simple.iloc[i-1,0:i+2] = linear_regression(data, power=i, models_to_plot=models_to_plot)"
   ]
  },
  {
   "cell_type": "markdown",
   "metadata": {},
   "source": [
    "This clearly aligns with our initial understanding. As the model complexity increases, the models tends to fit even smaller deviations in the training data set. Though this leads to overfitting, lets keep this issue aside for some time and come to our main objective, i.e. the impact on the magnitude of coefficients. This can be analysed by looking at the data frame created above."
   ]
  },
  {
   "cell_type": "code",
   "execution_count": 7,
   "metadata": {},
   "outputs": [
    {
     "data": {
      "text/html": [
       "<div>\n",
       "<style scoped>\n",
       "    .dataframe tbody tr th:only-of-type {\n",
       "        vertical-align: middle;\n",
       "    }\n",
       "\n",
       "    .dataframe tbody tr th {\n",
       "        vertical-align: top;\n",
       "    }\n",
       "\n",
       "    .dataframe thead th {\n",
       "        text-align: right;\n",
       "    }\n",
       "</style>\n",
       "<table border=\"1\" class=\"dataframe\">\n",
       "  <thead>\n",
       "    <tr style=\"text-align: right;\">\n",
       "      <th></th>\n",
       "      <th>rss</th>\n",
       "      <th>intercept</th>\n",
       "      <th>coef_x_1</th>\n",
       "      <th>coef_x_2</th>\n",
       "      <th>coef_x_3</th>\n",
       "      <th>coef_x_4</th>\n",
       "      <th>coef_x_5</th>\n",
       "      <th>coef_x_6</th>\n",
       "      <th>coef_x_7</th>\n",
       "      <th>coef_x_8</th>\n",
       "      <th>coef_x_9</th>\n",
       "      <th>coef_x_10</th>\n",
       "      <th>coef_x_11</th>\n",
       "      <th>coef_x_12</th>\n",
       "      <th>coef_x_13</th>\n",
       "      <th>coef_x_14</th>\n",
       "      <th>coef_x_15</th>\n",
       "    </tr>\n",
       "  </thead>\n",
       "  <tbody>\n",
       "    <tr>\n",
       "      <th>model_pow_1</th>\n",
       "      <td>3.3</td>\n",
       "      <td>2</td>\n",
       "      <td>-0.62</td>\n",
       "      <td>NaN</td>\n",
       "      <td>NaN</td>\n",
       "      <td>NaN</td>\n",
       "      <td>NaN</td>\n",
       "      <td>NaN</td>\n",
       "      <td>NaN</td>\n",
       "      <td>NaN</td>\n",
       "      <td>NaN</td>\n",
       "      <td>NaN</td>\n",
       "      <td>NaN</td>\n",
       "      <td>NaN</td>\n",
       "      <td>NaN</td>\n",
       "      <td>NaN</td>\n",
       "      <td>NaN</td>\n",
       "    </tr>\n",
       "    <tr>\n",
       "      <th>model_pow_2</th>\n",
       "      <td>3.3</td>\n",
       "      <td>1.9</td>\n",
       "      <td>-0.58</td>\n",
       "      <td>-0.006</td>\n",
       "      <td>NaN</td>\n",
       "      <td>NaN</td>\n",
       "      <td>NaN</td>\n",
       "      <td>NaN</td>\n",
       "      <td>NaN</td>\n",
       "      <td>NaN</td>\n",
       "      <td>NaN</td>\n",
       "      <td>NaN</td>\n",
       "      <td>NaN</td>\n",
       "      <td>NaN</td>\n",
       "      <td>NaN</td>\n",
       "      <td>NaN</td>\n",
       "      <td>NaN</td>\n",
       "    </tr>\n",
       "    <tr>\n",
       "      <th>model_pow_3</th>\n",
       "      <td>1.1</td>\n",
       "      <td>-1.1</td>\n",
       "      <td>3</td>\n",
       "      <td>-1.3</td>\n",
       "      <td>0.14</td>\n",
       "      <td>NaN</td>\n",
       "      <td>NaN</td>\n",
       "      <td>NaN</td>\n",
       "      <td>NaN</td>\n",
       "      <td>NaN</td>\n",
       "      <td>NaN</td>\n",
       "      <td>NaN</td>\n",
       "      <td>NaN</td>\n",
       "      <td>NaN</td>\n",
       "      <td>NaN</td>\n",
       "      <td>NaN</td>\n",
       "      <td>NaN</td>\n",
       "    </tr>\n",
       "    <tr>\n",
       "      <th>model_pow_4</th>\n",
       "      <td>1.1</td>\n",
       "      <td>-0.27</td>\n",
       "      <td>1.7</td>\n",
       "      <td>-0.53</td>\n",
       "      <td>-0.036</td>\n",
       "      <td>0.014</td>\n",
       "      <td>NaN</td>\n",
       "      <td>NaN</td>\n",
       "      <td>NaN</td>\n",
       "      <td>NaN</td>\n",
       "      <td>NaN</td>\n",
       "      <td>NaN</td>\n",
       "      <td>NaN</td>\n",
       "      <td>NaN</td>\n",
       "      <td>NaN</td>\n",
       "      <td>NaN</td>\n",
       "      <td>NaN</td>\n",
       "    </tr>\n",
       "    <tr>\n",
       "      <th>model_pow_5</th>\n",
       "      <td>1</td>\n",
       "      <td>3</td>\n",
       "      <td>-5.1</td>\n",
       "      <td>4.7</td>\n",
       "      <td>-1.9</td>\n",
       "      <td>0.33</td>\n",
       "      <td>-0.021</td>\n",
       "      <td>NaN</td>\n",
       "      <td>NaN</td>\n",
       "      <td>NaN</td>\n",
       "      <td>NaN</td>\n",
       "      <td>NaN</td>\n",
       "      <td>NaN</td>\n",
       "      <td>NaN</td>\n",
       "      <td>NaN</td>\n",
       "      <td>NaN</td>\n",
       "      <td>NaN</td>\n",
       "    </tr>\n",
       "    <tr>\n",
       "      <th>model_pow_6</th>\n",
       "      <td>0.99</td>\n",
       "      <td>-2.8</td>\n",
       "      <td>9.5</td>\n",
       "      <td>-9.7</td>\n",
       "      <td>5.2</td>\n",
       "      <td>-1.6</td>\n",
       "      <td>0.23</td>\n",
       "      <td>-0.014</td>\n",
       "      <td>NaN</td>\n",
       "      <td>NaN</td>\n",
       "      <td>NaN</td>\n",
       "      <td>NaN</td>\n",
       "      <td>NaN</td>\n",
       "      <td>NaN</td>\n",
       "      <td>NaN</td>\n",
       "      <td>NaN</td>\n",
       "      <td>NaN</td>\n",
       "    </tr>\n",
       "    <tr>\n",
       "      <th>model_pow_7</th>\n",
       "      <td>0.93</td>\n",
       "      <td>19</td>\n",
       "      <td>-56</td>\n",
       "      <td>69</td>\n",
       "      <td>-45</td>\n",
       "      <td>17</td>\n",
       "      <td>-3.5</td>\n",
       "      <td>0.4</td>\n",
       "      <td>-0.019</td>\n",
       "      <td>NaN</td>\n",
       "      <td>NaN</td>\n",
       "      <td>NaN</td>\n",
       "      <td>NaN</td>\n",
       "      <td>NaN</td>\n",
       "      <td>NaN</td>\n",
       "      <td>NaN</td>\n",
       "      <td>NaN</td>\n",
       "    </tr>\n",
       "    <tr>\n",
       "      <th>model_pow_8</th>\n",
       "      <td>0.92</td>\n",
       "      <td>43</td>\n",
       "      <td>-1.4e+02</td>\n",
       "      <td>1.8e+02</td>\n",
       "      <td>-1.3e+02</td>\n",
       "      <td>58</td>\n",
       "      <td>-15</td>\n",
       "      <td>2.4</td>\n",
       "      <td>-0.21</td>\n",
       "      <td>0.0077</td>\n",
       "      <td>NaN</td>\n",
       "      <td>NaN</td>\n",
       "      <td>NaN</td>\n",
       "      <td>NaN</td>\n",
       "      <td>NaN</td>\n",
       "      <td>NaN</td>\n",
       "      <td>NaN</td>\n",
       "    </tr>\n",
       "    <tr>\n",
       "      <th>model_pow_9</th>\n",
       "      <td>0.87</td>\n",
       "      <td>1.7e+02</td>\n",
       "      <td>-6.1e+02</td>\n",
       "      <td>9.6e+02</td>\n",
       "      <td>-8.5e+02</td>\n",
       "      <td>4.6e+02</td>\n",
       "      <td>-1.6e+02</td>\n",
       "      <td>37</td>\n",
       "      <td>-5.2</td>\n",
       "      <td>0.42</td>\n",
       "      <td>-0.015</td>\n",
       "      <td>NaN</td>\n",
       "      <td>NaN</td>\n",
       "      <td>NaN</td>\n",
       "      <td>NaN</td>\n",
       "      <td>NaN</td>\n",
       "      <td>NaN</td>\n",
       "    </tr>\n",
       "    <tr>\n",
       "      <th>model_pow_10</th>\n",
       "      <td>0.87</td>\n",
       "      <td>1.4e+02</td>\n",
       "      <td>-4.9e+02</td>\n",
       "      <td>7.3e+02</td>\n",
       "      <td>-6e+02</td>\n",
       "      <td>2.9e+02</td>\n",
       "      <td>-87</td>\n",
       "      <td>15</td>\n",
       "      <td>-0.81</td>\n",
       "      <td>-0.14</td>\n",
       "      <td>0.026</td>\n",
       "      <td>-0.0013</td>\n",
       "      <td>NaN</td>\n",
       "      <td>NaN</td>\n",
       "      <td>NaN</td>\n",
       "      <td>NaN</td>\n",
       "      <td>NaN</td>\n",
       "    </tr>\n",
       "    <tr>\n",
       "      <th>model_pow_11</th>\n",
       "      <td>0.87</td>\n",
       "      <td>-75</td>\n",
       "      <td>5.1e+02</td>\n",
       "      <td>-1.3e+03</td>\n",
       "      <td>1.9e+03</td>\n",
       "      <td>-1.6e+03</td>\n",
       "      <td>9.1e+02</td>\n",
       "      <td>-3.5e+02</td>\n",
       "      <td>91</td>\n",
       "      <td>-16</td>\n",
       "      <td>1.8</td>\n",
       "      <td>-0.12</td>\n",
       "      <td>0.0034</td>\n",
       "      <td>NaN</td>\n",
       "      <td>NaN</td>\n",
       "      <td>NaN</td>\n",
       "      <td>NaN</td>\n",
       "    </tr>\n",
       "    <tr>\n",
       "      <th>model_pow_12</th>\n",
       "      <td>0.87</td>\n",
       "      <td>-3.4e+02</td>\n",
       "      <td>1.9e+03</td>\n",
       "      <td>-4.4e+03</td>\n",
       "      <td>6e+03</td>\n",
       "      <td>-5.2e+03</td>\n",
       "      <td>3.1e+03</td>\n",
       "      <td>-1.3e+03</td>\n",
       "      <td>3.8e+02</td>\n",
       "      <td>-80</td>\n",
       "      <td>12</td>\n",
       "      <td>-1.1</td>\n",
       "      <td>0.062</td>\n",
       "      <td>-0.0016</td>\n",
       "      <td>NaN</td>\n",
       "      <td>NaN</td>\n",
       "      <td>NaN</td>\n",
       "    </tr>\n",
       "    <tr>\n",
       "      <th>model_pow_13</th>\n",
       "      <td>0.86</td>\n",
       "      <td>3.2e+03</td>\n",
       "      <td>-1.8e+04</td>\n",
       "      <td>4.5e+04</td>\n",
       "      <td>-6.7e+04</td>\n",
       "      <td>6.6e+04</td>\n",
       "      <td>-4.6e+04</td>\n",
       "      <td>2.3e+04</td>\n",
       "      <td>-8.5e+03</td>\n",
       "      <td>2.3e+03</td>\n",
       "      <td>-4.5e+02</td>\n",
       "      <td>62</td>\n",
       "      <td>-5.7</td>\n",
       "      <td>0.31</td>\n",
       "      <td>-0.0078</td>\n",
       "      <td>NaN</td>\n",
       "      <td>NaN</td>\n",
       "    </tr>\n",
       "    <tr>\n",
       "      <th>model_pow_14</th>\n",
       "      <td>0.79</td>\n",
       "      <td>2.4e+04</td>\n",
       "      <td>-1.4e+05</td>\n",
       "      <td>3.8e+05</td>\n",
       "      <td>-6.1e+05</td>\n",
       "      <td>6.6e+05</td>\n",
       "      <td>-5e+05</td>\n",
       "      <td>2.8e+05</td>\n",
       "      <td>-1.2e+05</td>\n",
       "      <td>3.7e+04</td>\n",
       "      <td>-8.5e+03</td>\n",
       "      <td>1.5e+03</td>\n",
       "      <td>-1.8e+02</td>\n",
       "      <td>15</td>\n",
       "      <td>-0.73</td>\n",
       "      <td>0.017</td>\n",
       "      <td>NaN</td>\n",
       "    </tr>\n",
       "    <tr>\n",
       "      <th>model_pow_15</th>\n",
       "      <td>0.7</td>\n",
       "      <td>-3.6e+04</td>\n",
       "      <td>2.4e+05</td>\n",
       "      <td>-7.5e+05</td>\n",
       "      <td>1.4e+06</td>\n",
       "      <td>-1.7e+06</td>\n",
       "      <td>1.5e+06</td>\n",
       "      <td>-1e+06</td>\n",
       "      <td>5e+05</td>\n",
       "      <td>-1.9e+05</td>\n",
       "      <td>5.4e+04</td>\n",
       "      <td>-1.2e+04</td>\n",
       "      <td>1.9e+03</td>\n",
       "      <td>-2.2e+02</td>\n",
       "      <td>17</td>\n",
       "      <td>-0.81</td>\n",
       "      <td>0.018</td>\n",
       "    </tr>\n",
       "  </tbody>\n",
       "</table>\n",
       "</div>"
      ],
      "text/plain": [
       "              rss intercept coef_x_1 coef_x_2 coef_x_3 coef_x_4 coef_x_5  \\\n",
       "model_pow_1   3.3         2    -0.62      NaN      NaN      NaN      NaN   \n",
       "model_pow_2   3.3       1.9    -0.58   -0.006      NaN      NaN      NaN   \n",
       "model_pow_3   1.1      -1.1        3     -1.3     0.14      NaN      NaN   \n",
       "model_pow_4   1.1     -0.27      1.7    -0.53   -0.036    0.014      NaN   \n",
       "model_pow_5     1         3     -5.1      4.7     -1.9     0.33   -0.021   \n",
       "model_pow_6  0.99      -2.8      9.5     -9.7      5.2     -1.6     0.23   \n",
       "model_pow_7  0.93        19      -56       69      -45       17     -3.5   \n",
       "model_pow_8  0.92        43 -1.4e+02  1.8e+02 -1.3e+02       58      -15   \n",
       "model_pow_9  0.87   1.7e+02 -6.1e+02  9.6e+02 -8.5e+02  4.6e+02 -1.6e+02   \n",
       "model_pow_10 0.87   1.4e+02 -4.9e+02  7.3e+02   -6e+02  2.9e+02      -87   \n",
       "model_pow_11 0.87       -75  5.1e+02 -1.3e+03  1.9e+03 -1.6e+03  9.1e+02   \n",
       "model_pow_12 0.87  -3.4e+02  1.9e+03 -4.4e+03    6e+03 -5.2e+03  3.1e+03   \n",
       "model_pow_13 0.86   3.2e+03 -1.8e+04  4.5e+04 -6.7e+04  6.6e+04 -4.6e+04   \n",
       "model_pow_14 0.79   2.4e+04 -1.4e+05  3.8e+05 -6.1e+05  6.6e+05   -5e+05   \n",
       "model_pow_15  0.7  -3.6e+04  2.4e+05 -7.5e+05  1.4e+06 -1.7e+06  1.5e+06   \n",
       "\n",
       "             coef_x_6 coef_x_7 coef_x_8 coef_x_9 coef_x_10 coef_x_11  \\\n",
       "model_pow_1       NaN      NaN      NaN      NaN       NaN       NaN   \n",
       "model_pow_2       NaN      NaN      NaN      NaN       NaN       NaN   \n",
       "model_pow_3       NaN      NaN      NaN      NaN       NaN       NaN   \n",
       "model_pow_4       NaN      NaN      NaN      NaN       NaN       NaN   \n",
       "model_pow_5       NaN      NaN      NaN      NaN       NaN       NaN   \n",
       "model_pow_6    -0.014      NaN      NaN      NaN       NaN       NaN   \n",
       "model_pow_7       0.4   -0.019      NaN      NaN       NaN       NaN   \n",
       "model_pow_8       2.4    -0.21   0.0077      NaN       NaN       NaN   \n",
       "model_pow_9        37     -5.2     0.42   -0.015       NaN       NaN   \n",
       "model_pow_10       15    -0.81    -0.14    0.026   -0.0013       NaN   \n",
       "model_pow_11 -3.5e+02       91      -16      1.8     -0.12    0.0034   \n",
       "model_pow_12 -1.3e+03  3.8e+02      -80       12      -1.1     0.062   \n",
       "model_pow_13  2.3e+04 -8.5e+03  2.3e+03 -4.5e+02        62      -5.7   \n",
       "model_pow_14  2.8e+05 -1.2e+05  3.7e+04 -8.5e+03   1.5e+03  -1.8e+02   \n",
       "model_pow_15   -1e+06    5e+05 -1.9e+05  5.4e+04  -1.2e+04   1.9e+03   \n",
       "\n",
       "             coef_x_12 coef_x_13 coef_x_14 coef_x_15  \n",
       "model_pow_1        NaN       NaN       NaN       NaN  \n",
       "model_pow_2        NaN       NaN       NaN       NaN  \n",
       "model_pow_3        NaN       NaN       NaN       NaN  \n",
       "model_pow_4        NaN       NaN       NaN       NaN  \n",
       "model_pow_5        NaN       NaN       NaN       NaN  \n",
       "model_pow_6        NaN       NaN       NaN       NaN  \n",
       "model_pow_7        NaN       NaN       NaN       NaN  \n",
       "model_pow_8        NaN       NaN       NaN       NaN  \n",
       "model_pow_9        NaN       NaN       NaN       NaN  \n",
       "model_pow_10       NaN       NaN       NaN       NaN  \n",
       "model_pow_11       NaN       NaN       NaN       NaN  \n",
       "model_pow_12   -0.0016       NaN       NaN       NaN  \n",
       "model_pow_13      0.31   -0.0078       NaN       NaN  \n",
       "model_pow_14        15     -0.73     0.017       NaN  \n",
       "model_pow_15  -2.2e+02        17     -0.81     0.018  "
      ]
     },
     "execution_count": 7,
     "metadata": {},
     "output_type": "execute_result"
    }
   ],
   "source": [
    "#Set the display format to be scientific for ease of analysis\n",
    "pd.options.display.float_format = '{:,.2g}'.format\n",
    "coef_matrix_simple"
   ]
  },
  {
   "cell_type": "markdown",
   "metadata": {},
   "source": [
    "<img src='img/rig_1.png'>"
   ]
  },
  {
   "cell_type": "markdown",
   "metadata": {},
   "source": [
    "It is clearly evident that the <b>size of coefficients increase exponentially with increase in model complexity.</b> I hope this gives some intuition into why putting a constraint on the magnitude of coefficients can be a good idea to reduce model complexity."
   ]
  },
  {
   "cell_type": "markdown",
   "metadata": {},
   "source": [
    "Lets try to understand this even better."
   ]
  },
  {
   "cell_type": "markdown",
   "metadata": {},
   "source": [
    "What does a large coefficient signify? It means that we’re putting a lot of emphasis on that feature, i.e. the particular feature is a good predictor for the outcome. When it becomes too large, the algorithm starts modelling intricate relations to estimate the output and ends up overfitting to the particular training data."
   ]
  },
  {
   "cell_type": "markdown",
   "metadata": {},
   "source": [
    "I hope the concept is clear. I’ll be happy to discuss further in comments if needed. Now, lets understand ridge and lasso regression in detail and see how well they work for the same problem."
   ]
  },
  {
   "cell_type": "markdown",
   "metadata": {},
   "source": [
    "# 3. Ridge Regression"
   ]
  },
  {
   "cell_type": "markdown",
   "metadata": {},
   "source": [
    "As mentioned before, ridge regression performs <b>‘L2 regularization‘</b>, i.e. it adds a factor of sum of squares of coefficients in the optimization objective. Thus, ridge regression optimizes the following:"
   ]
  },
  {
   "cell_type": "markdown",
   "metadata": {},
   "source": [
    "### Objective = RSS + α * (sum of square of coefficients)"
   ]
  },
  {
   "cell_type": "markdown",
   "metadata": {},
   "source": [
    "Here, α (alpha) is the parameter which balances the amount of emphasis given to minimizing RSS vs minimizing sum of square of coefficients. α can take various values:"
   ]
  },
  {
   "cell_type": "markdown",
   "metadata": {},
   "source": [
    "<ol>\n",
    "<li><b>α = 0:</b></li>\n",
    "<ul>\n",
    "<li>The objective becomes same as simple linear regression.</li>\n",
    "<li>We’ll get the same coefficients as simple linear regression.</li>\n",
    "</ul>\n",
    "\n",
    "<li><b>α = ∞:</b></li>\n",
    "<ul>\n",
    "<li>The coefficients will be zero. Why? Because of infinite weightage on square of coefficients, anything less than zero will make the objective infinite.</li>\n",
    "</ul>\n",
    "\n",
    "<li><b>0 < α < ∞:</b></li>\n",
    "<ul>\n",
    "<li>The magnitude of α will decide the weightage given to different parts of objective.</li>\n",
    "<li>The coefficients will be somewhere between 0 and ones for simple linear regression.</li>\n",
    "</ul>\n",
    "</ol>"
   ]
  },
  {
   "cell_type": "markdown",
   "metadata": {},
   "source": [
    "I hope this gives some sense on how α would impact the magnitude of coefficients. One thing is for sure that any non-zero value would give values less than that of simple linear regression. By how much? We’ll find out soon. Leaving the mathematical details for later, lets see ridge regression in action on the same problem as above."
   ]
  },
  {
   "cell_type": "markdown",
   "metadata": {},
   "source": [
    "First, lets define a generic function for ridge regression similar to the one defined for simple linear regression. The Python code is:"
   ]
  },
  {
   "cell_type": "code",
   "execution_count": 8,
   "metadata": {},
   "outputs": [],
   "source": [
    "from sklearn.linear_model import Ridge\n",
    "def ridge_regression(data, predictors, alpha, models_to_plot={}):\n",
    "    #Fit the model\n",
    "    ridgereg = Ridge(alpha=alpha,normalize=True)\n",
    "    ridgereg.fit(data[predictors],data['y'])\n",
    "    y_pred = ridgereg.predict(data[predictors])\n",
    "    \n",
    "    #Check if a plot is to be made for the entered alpha\n",
    "    if alpha in models_to_plot:\n",
    "        plt.subplot(models_to_plot[alpha])\n",
    "        plt.tight_layout()\n",
    "        plt.plot(data['x'],y_pred)\n",
    "        plt.plot(data['x'],data['y'],'.')\n",
    "        plt.title('Plot for alpha: %.3g'%alpha)\n",
    "    \n",
    "    #Return the result in pre-defined format\n",
    "    rss = sum((y_pred-data['y'])**2)\n",
    "    ret = [rss]\n",
    "    ret.extend([ridgereg.intercept_])\n",
    "    ret.extend(ridgereg.coef_)\n",
    "    return ret"
   ]
  },
  {
   "cell_type": "markdown",
   "metadata": {},
   "source": [
    "Note the ‘Ridge’ function used here. It takes ‘alpha’ as a parameter on initialization. Also, keep in mind that normalizing the inputs is generally a good idea in every type of regression and should be used in case of ridge regression as well."
   ]
  },
  {
   "cell_type": "markdown",
   "metadata": {},
   "source": [
    "Now, lets analyze the result of Ridge regression for 10 different values of α ranging from 1e-15 to 20. These values have been chosen so that we can easily analyze the trend with change in values of α. These would however differ from case to case."
   ]
  },
  {
   "cell_type": "markdown",
   "metadata": {},
   "source": [
    "Python Code:"
   ]
  },
  {
   "cell_type": "code",
   "execution_count": 9,
   "metadata": {},
   "outputs": [
    {
     "data": {
      "image/png": "[encoded data removed]",
      "text/plain": [
       "<Figure size 864x720 with 6 Axes>"
      ]
     },
     "metadata": {
      "needs_background": "light"
     },
     "output_type": "display_data"
    }
   ],
   "source": [
    "#Initialize predictors to be set of 15 powers of x\n",
    "predictors=['x']\n",
    "predictors.extend(['x_%d'%i for i in range(2,16)])\n",
    "\n",
    "#Set the different values of alpha to be tested\n",
    "alpha_ridge = [1e-15, 1e-10, 1e-8, 1e-4, 1e-3,1e-2, 1, 5, 10, 20]\n",
    "\n",
    "#Initialize the dataframe for storing coefficients.\n",
    "col = ['rss','intercept'] + ['coef_x_%d'%i for i in range(1,16)]\n",
    "ind = ['alpha_%.2g'%alpha_ridge[i] for i in range(0,10)]\n",
    "coef_matrix_ridge = pd.DataFrame(index=ind, columns=col)\n",
    "\n",
    "models_to_plot = {1e-15:231, 1e-10:232, 1e-4:233, 1e-3:234, 1e-2:235, 5:236}\n",
    "for i in range(10):\n",
    "    coef_matrix_ridge.iloc[i,] = ridge_regression(data, predictors, alpha_ridge[i], models_to_plot)"
   ]
  },
  {
   "cell_type": "markdown",
   "metadata": {},
   "source": [
    "Here we can clearly observe that <b>as the value of alpha increases, the model complexity reduces.</b> Though higher values of alpha reduce overfitting, significantly high values can cause underfitting as well (eg. alpha = 5). Thus alpha should be chosen wisely. A widely accept technique is cross-validation, i.e. the value of alpha is iterated over a range of values and the one giving higher cross-validation score is chosen."
   ]
  },
  {
   "cell_type": "markdown",
   "metadata": {},
   "source": [
    "Lets have a look at the value of coefficients in the above models:"
   ]
  },
  {
   "cell_type": "markdown",
   "metadata": {},
   "source": [
    "Python Code:"
   ]
  },
  {
   "cell_type": "code",
   "execution_count": 10,
   "metadata": {},
   "outputs": [
    {
     "data": {
      "text/html": [
       "<div>\n",
       "<style scoped>\n",
       "    .dataframe tbody tr th:only-of-type {\n",
       "        vertical-align: middle;\n",
       "    }\n",
       "\n",
       "    .dataframe tbody tr th {\n",
       "        vertical-align: top;\n",
       "    }\n",
       "\n",
       "    .dataframe thead th {\n",
       "        text-align: right;\n",
       "    }\n",
       "</style>\n",
       "<table border=\"1\" class=\"dataframe\">\n",
       "  <thead>\n",
       "    <tr style=\"text-align: right;\">\n",
       "      <th></th>\n",
       "      <th>rss</th>\n",
       "      <th>intercept</th>\n",
       "      <th>coef_x_1</th>\n",
       "      <th>coef_x_2</th>\n",
       "      <th>coef_x_3</th>\n",
       "      <th>coef_x_4</th>\n",
       "      <th>coef_x_5</th>\n",
       "      <th>coef_x_6</th>\n",
       "      <th>coef_x_7</th>\n",
       "      <th>coef_x_8</th>\n",
       "      <th>coef_x_9</th>\n",
       "      <th>coef_x_10</th>\n",
       "      <th>coef_x_11</th>\n",
       "      <th>coef_x_12</th>\n",
       "      <th>coef_x_13</th>\n",
       "      <th>coef_x_14</th>\n",
       "      <th>coef_x_15</th>\n",
       "    </tr>\n",
       "  </thead>\n",
       "  <tbody>\n",
       "    <tr>\n",
       "      <th>alpha_1e-15</th>\n",
       "      <td>0.87</td>\n",
       "      <td>94</td>\n",
       "      <td>-3e+02</td>\n",
       "      <td>3.8e+02</td>\n",
       "      <td>-2.4e+02</td>\n",
       "      <td>68</td>\n",
       "      <td>-1.2</td>\n",
       "      <td>-3.7</td>\n",
       "      <td>0.3</td>\n",
       "      <td>0.19</td>\n",
       "      <td>-0.021</td>\n",
       "      <td>-0.0077</td>\n",
       "      <td>0.0011</td>\n",
       "      <td>0.00025</td>\n",
       "      <td>-6.3e-05</td>\n",
       "      <td>4.6e-06</td>\n",
       "      <td>-9e-08</td>\n",
       "    </tr>\n",
       "    <tr>\n",
       "      <th>alpha_1e-10</th>\n",
       "      <td>0.92</td>\n",
       "      <td>11</td>\n",
       "      <td>-29</td>\n",
       "      <td>31</td>\n",
       "      <td>-15</td>\n",
       "      <td>2.9</td>\n",
       "      <td>0.17</td>\n",
       "      <td>-0.091</td>\n",
       "      <td>-0.011</td>\n",
       "      <td>0.002</td>\n",
       "      <td>0.00064</td>\n",
       "      <td>2.4e-05</td>\n",
       "      <td>-2e-05</td>\n",
       "      <td>-4.2e-06</td>\n",
       "      <td>2.2e-07</td>\n",
       "      <td>2.3e-07</td>\n",
       "      <td>-2.3e-08</td>\n",
       "    </tr>\n",
       "    <tr>\n",
       "      <th>alpha_1e-08</th>\n",
       "      <td>0.95</td>\n",
       "      <td>1.3</td>\n",
       "      <td>-1.5</td>\n",
       "      <td>1.7</td>\n",
       "      <td>-0.68</td>\n",
       "      <td>0.039</td>\n",
       "      <td>0.016</td>\n",
       "      <td>0.00016</td>\n",
       "      <td>-0.00036</td>\n",
       "      <td>-5.4e-05</td>\n",
       "      <td>-2.9e-07</td>\n",
       "      <td>1.1e-06</td>\n",
       "      <td>1.9e-07</td>\n",
       "      <td>2e-08</td>\n",
       "      <td>3.9e-09</td>\n",
       "      <td>8.2e-10</td>\n",
       "      <td>-4.6e-10</td>\n",
       "    </tr>\n",
       "    <tr>\n",
       "      <th>alpha_0.0001</th>\n",
       "      <td>0.96</td>\n",
       "      <td>0.56</td>\n",
       "      <td>0.55</td>\n",
       "      <td>-0.13</td>\n",
       "      <td>-0.026</td>\n",
       "      <td>-0.0028</td>\n",
       "      <td>-0.00011</td>\n",
       "      <td>4.1e-05</td>\n",
       "      <td>1.5e-05</td>\n",
       "      <td>3.7e-06</td>\n",
       "      <td>7.4e-07</td>\n",
       "      <td>1.3e-07</td>\n",
       "      <td>1.9e-08</td>\n",
       "      <td>1.9e-09</td>\n",
       "      <td>-1.3e-10</td>\n",
       "      <td>-1.5e-10</td>\n",
       "      <td>-6.2e-11</td>\n",
       "    </tr>\n",
       "    <tr>\n",
       "      <th>alpha_0.001</th>\n",
       "      <td>1</td>\n",
       "      <td>0.82</td>\n",
       "      <td>0.31</td>\n",
       "      <td>-0.087</td>\n",
       "      <td>-0.02</td>\n",
       "      <td>-0.0028</td>\n",
       "      <td>-0.00022</td>\n",
       "      <td>1.8e-05</td>\n",
       "      <td>1.2e-05</td>\n",
       "      <td>3.4e-06</td>\n",
       "      <td>7.3e-07</td>\n",
       "      <td>1.3e-07</td>\n",
       "      <td>1.9e-08</td>\n",
       "      <td>1.7e-09</td>\n",
       "      <td>-1.5e-10</td>\n",
       "      <td>-1.4e-10</td>\n",
       "      <td>-5.2e-11</td>\n",
       "    </tr>\n",
       "    <tr>\n",
       "      <th>alpha_0.01</th>\n",
       "      <td>1.4</td>\n",
       "      <td>1.3</td>\n",
       "      <td>-0.088</td>\n",
       "      <td>-0.052</td>\n",
       "      <td>-0.01</td>\n",
       "      <td>-0.0014</td>\n",
       "      <td>-0.00013</td>\n",
       "      <td>7.2e-07</td>\n",
       "      <td>4.1e-06</td>\n",
       "      <td>1.3e-06</td>\n",
       "      <td>3e-07</td>\n",
       "      <td>5.6e-08</td>\n",
       "      <td>9e-09</td>\n",
       "      <td>1.1e-09</td>\n",
       "      <td>4.3e-11</td>\n",
       "      <td>-3.1e-11</td>\n",
       "      <td>-1.5e-11</td>\n",
       "    </tr>\n",
       "    <tr>\n",
       "      <th>alpha_1</th>\n",
       "      <td>5.6</td>\n",
       "      <td>0.97</td>\n",
       "      <td>-0.14</td>\n",
       "      <td>-0.019</td>\n",
       "      <td>-0.003</td>\n",
       "      <td>-0.00047</td>\n",
       "      <td>-7e-05</td>\n",
       "      <td>-9.9e-06</td>\n",
       "      <td>-1.3e-06</td>\n",
       "      <td>-1.4e-07</td>\n",
       "      <td>-9.3e-09</td>\n",
       "      <td>1.3e-09</td>\n",
       "      <td>7.8e-10</td>\n",
       "      <td>2.4e-10</td>\n",
       "      <td>6.2e-11</td>\n",
       "      <td>1.4e-11</td>\n",
       "      <td>3.2e-12</td>\n",
       "    </tr>\n",
       "    <tr>\n",
       "      <th>alpha_5</th>\n",
       "      <td>14</td>\n",
       "      <td>0.55</td>\n",
       "      <td>-0.059</td>\n",
       "      <td>-0.0085</td>\n",
       "      <td>-0.0014</td>\n",
       "      <td>-0.00024</td>\n",
       "      <td>-4.1e-05</td>\n",
       "      <td>-6.9e-06</td>\n",
       "      <td>-1.1e-06</td>\n",
       "      <td>-1.9e-07</td>\n",
       "      <td>-3.1e-08</td>\n",
       "      <td>-5.1e-09</td>\n",
       "      <td>-8.2e-10</td>\n",
       "      <td>-1.3e-10</td>\n",
       "      <td>-2e-11</td>\n",
       "      <td>-3e-12</td>\n",
       "      <td>-4.2e-13</td>\n",
       "    </tr>\n",
       "    <tr>\n",
       "      <th>alpha_10</th>\n",
       "      <td>18</td>\n",
       "      <td>0.4</td>\n",
       "      <td>-0.037</td>\n",
       "      <td>-0.0055</td>\n",
       "      <td>-0.00095</td>\n",
       "      <td>-0.00017</td>\n",
       "      <td>-3e-05</td>\n",
       "      <td>-5.2e-06</td>\n",
       "      <td>-9.2e-07</td>\n",
       "      <td>-1.6e-07</td>\n",
       "      <td>-2.9e-08</td>\n",
       "      <td>-5.1e-09</td>\n",
       "      <td>-9.1e-10</td>\n",
       "      <td>-1.6e-10</td>\n",
       "      <td>-2.9e-11</td>\n",
       "      <td>-5.1e-12</td>\n",
       "      <td>-9.1e-13</td>\n",
       "    </tr>\n",
       "    <tr>\n",
       "      <th>alpha_20</th>\n",
       "      <td>23</td>\n",
       "      <td>0.28</td>\n",
       "      <td>-0.022</td>\n",
       "      <td>-0.0034</td>\n",
       "      <td>-0.0006</td>\n",
       "      <td>-0.00011</td>\n",
       "      <td>-2e-05</td>\n",
       "      <td>-3.6e-06</td>\n",
       "      <td>-6.6e-07</td>\n",
       "      <td>-1.2e-07</td>\n",
       "      <td>-2.2e-08</td>\n",
       "      <td>-4e-09</td>\n",
       "      <td>-7.5e-10</td>\n",
       "      <td>-1.4e-10</td>\n",
       "      <td>-2.5e-11</td>\n",
       "      <td>-4.7e-12</td>\n",
       "      <td>-8.7e-13</td>\n",
       "    </tr>\n",
       "  </tbody>\n",
       "</table>\n",
       "</div>"
      ],
      "text/plain": [
       "              rss intercept coef_x_1 coef_x_2 coef_x_3 coef_x_4 coef_x_5  \\\n",
       "alpha_1e-15  0.87        94   -3e+02  3.8e+02 -2.4e+02       68     -1.2   \n",
       "alpha_1e-10  0.92        11      -29       31      -15      2.9     0.17   \n",
       "alpha_1e-08  0.95       1.3     -1.5      1.7    -0.68    0.039    0.016   \n",
       "alpha_0.0001 0.96      0.56     0.55    -0.13   -0.026  -0.0028 -0.00011   \n",
       "alpha_0.001     1      0.82     0.31   -0.087    -0.02  -0.0028 -0.00022   \n",
       "alpha_0.01    1.4       1.3   -0.088   -0.052    -0.01  -0.0014 -0.00013   \n",
       "alpha_1       5.6      0.97    -0.14   -0.019   -0.003 -0.00047   -7e-05   \n",
       "alpha_5        14      0.55   -0.059  -0.0085  -0.0014 -0.00024 -4.1e-05   \n",
       "alpha_10       18       0.4   -0.037  -0.0055 -0.00095 -0.00017   -3e-05   \n",
       "alpha_20       23      0.28   -0.022  -0.0034  -0.0006 -0.00011   -2e-05   \n",
       "\n",
       "             coef_x_6 coef_x_7 coef_x_8 coef_x_9 coef_x_10 coef_x_11  \\\n",
       "alpha_1e-15      -3.7      0.3     0.19   -0.021   -0.0077    0.0011   \n",
       "alpha_1e-10    -0.091   -0.011    0.002  0.00064   2.4e-05    -2e-05   \n",
       "alpha_1e-08   0.00016 -0.00036 -5.4e-05 -2.9e-07   1.1e-06   1.9e-07   \n",
       "alpha_0.0001  4.1e-05  1.5e-05  3.7e-06  7.4e-07   1.3e-07   1.9e-08   \n",
       "alpha_0.001   1.8e-05  1.2e-05  3.4e-06  7.3e-07   1.3e-07   1.9e-08   \n",
       "alpha_0.01    7.2e-07  4.1e-06  1.3e-06    3e-07   5.6e-08     9e-09   \n",
       "alpha_1      -9.9e-06 -1.3e-06 -1.4e-07 -9.3e-09   1.3e-09   7.8e-10   \n",
       "alpha_5      -6.9e-06 -1.1e-06 -1.9e-07 -3.1e-08  -5.1e-09  -8.2e-10   \n",
       "alpha_10     -5.2e-06 -9.2e-07 -1.6e-07 -2.9e-08  -5.1e-09  -9.1e-10   \n",
       "alpha_20     -3.6e-06 -6.6e-07 -1.2e-07 -2.2e-08    -4e-09  -7.5e-10   \n",
       "\n",
       "             coef_x_12 coef_x_13 coef_x_14 coef_x_15  \n",
       "alpha_1e-15    0.00025  -6.3e-05   4.6e-06    -9e-08  \n",
       "alpha_1e-10   -4.2e-06   2.2e-07   2.3e-07  -2.3e-08  \n",
       "alpha_1e-08      2e-08   3.9e-09   8.2e-10  -4.6e-10  \n",
       "alpha_0.0001   1.9e-09  -1.3e-10  -1.5e-10  -6.2e-11  \n",
       "alpha_0.001    1.7e-09  -1.5e-10  -1.4e-10  -5.2e-11  \n",
       "alpha_0.01     1.1e-09   4.3e-11  -3.1e-11  -1.5e-11  \n",
       "alpha_1        2.4e-10   6.2e-11   1.4e-11   3.2e-12  \n",
       "alpha_5       -1.3e-10    -2e-11    -3e-12  -4.2e-13  \n",
       "alpha_10      -1.6e-10  -2.9e-11  -5.1e-12  -9.1e-13  \n",
       "alpha_20      -1.4e-10  -2.5e-11  -4.7e-12  -8.7e-13  "
      ]
     },
     "execution_count": 10,
     "metadata": {},
     "output_type": "execute_result"
    }
   ],
   "source": [
    "#Set the display format to be scientific for ease of analysis\n",
    "pd.options.display.float_format = '{:,.2g}'.format\n",
    "coef_matrix_ridge"
   ]
  },
  {
   "cell_type": "markdown",
   "metadata": {},
   "source": [
    "The table looks like:"
   ]
  },
  {
   "cell_type": "markdown",
   "metadata": {},
   "source": [
    "<img src='img/rig_2.png'>"
   ]
  },
  {
   "cell_type": "markdown",
   "metadata": {},
   "source": [
    "This straight away gives us the following inferences:"
   ]
  },
  {
   "cell_type": "markdown",
   "metadata": {},
   "source": [
    "<ol>\n",
    "<li>The RSS increases with increase in alpha, this model complexity reduces</li>\n",
    "<li>An alpha as small as 1e-15 gives us significant reduction in magnitude of coefficients. How? Compare the coefficients in the first row of this table to the last row of simple linear regression table.</li>\n",
    "<li>High alpha values can lead to significant underfitting. Note the rapid increase in RSS for values of alpha greater than 1</li>\n",
    "<li>Though the coefficients are <b>very very small</b>, they are <b>NOT zero.</b></li>\n",
    "</ol>"
   ]
  },
  {
   "cell_type": "markdown",
   "metadata": {},
   "source": [
    "The first 3 are very intuitive. But #4 is also a crucial observation. Let’s reconfirm the same by determining the number of zeros in each row of the coefficients data set:"
   ]
  },
  {
   "cell_type": "markdown",
   "metadata": {},
   "source": [
    "Python Code:"
   ]
  },
  {
   "cell_type": "code",
   "execution_count": 13,
   "metadata": {},
   "outputs": [
    {
     "data": {
      "text/plain": [
       "alpha_1e-15     0\n",
       "alpha_1e-10     0\n",
       "alpha_1e-08     0\n",
       "alpha_0.0001    0\n",
       "alpha_0.001     0\n",
       "alpha_0.01      0\n",
       "alpha_1         0\n",
       "alpha_5         0\n",
       "alpha_10        0\n",
       "alpha_20        0\n",
       "dtype: int64"
      ]
     },
     "execution_count": 13,
     "metadata": {},
     "output_type": "execute_result"
    }
   ],
   "source": [
    "coef_matrix_ridge.apply(lambda x: sum(x.values==0),axis=1)"
   ]
  },
  {
   "cell_type": "markdown",
   "metadata": {},
   "source": [
    "This confirms that all the 15 coefficients are greater than zero in magnitude (can be +ve or -ve). Remember this observation and have a look again until its clear. This will play an important role in later while comparing ridge with lasso regression."
   ]
  },
  {
   "cell_type": "markdown",
   "metadata": {},
   "source": [
    "# 4. Lasso Regression"
   ]
  },
  {
   "cell_type": "markdown",
   "metadata": {},
   "source": [
    "LASSO stands for Least Absolute Shrinkage and Selection Operator. I know it doesn’t give much of an idea but there are 2 key words here – ‘absolute‘ and ‘selection‘."
   ]
  },
  {
   "cell_type": "markdown",
   "metadata": {},
   "source": [
    "Lets consider the former first and worry about the latter later."
   ]
  },
  {
   "cell_type": "markdown",
   "metadata": {},
   "source": [
    "Lasso regression performs <b>L1 regularization</b>, i.e. it adds a factor of sum of absolute value of coefficients in the optimization objective. Thus, lasso regression optimizes the following:"
   ]
  },
  {
   "cell_type": "markdown",
   "metadata": {},
   "source": [
    "### Objective = RSS + α * (sum of absolute value of coefficients)"
   ]
  },
  {
   "cell_type": "markdown",
   "metadata": {},
   "source": [
    "Here, α (alpha) works similar to that of ridge and provides a trade-off between balancing RSS and magnitude of coefficients. Like that of ridge, α can take various values. Lets iterate it here briefly:"
   ]
  },
  {
   "cell_type": "markdown",
   "metadata": {},
   "source": [
    "<ol>\n",
    "<li>α = 0: Same coefficients as simple linear regression</li>\n",
    "<li>α = ∞: All coefficients zero (same logic as before)</li>\n",
    "<li>0 < α < ∞: coefficients between 0 and that of simple linear regression</li>\n",
    "</ol>"
   ]
  },
  {
   "cell_type": "markdown",
   "metadata": {},
   "source": [
    "Yes its <i>appearing to be very similar to Ridge till now.</i> But just hang on with me and you’ll know the difference by the time we finish. Like before, lets run lasso regression on the same problem as above. First we’ll define a generic function:"
   ]
  },
  {
   "cell_type": "code",
   "execution_count": 14,
   "metadata": {},
   "outputs": [],
   "source": [
    "from sklearn.linear_model import Lasso\n",
    "def lasso_regression(data, predictors, alpha, models_to_plot={}):\n",
    "    #Fit the model\n",
    "    lassoreg = Lasso(alpha=alpha,normalize=True, max_iter=1e5)\n",
    "    lassoreg.fit(data[predictors],data['y'])\n",
    "    y_pred = lassoreg.predict(data[predictors])\n",
    "    \n",
    "    #Check if a plot is to be made for the entered alpha\n",
    "    if alpha in models_to_plot:\n",
    "        plt.subplot(models_to_plot[alpha])\n",
    "        plt.tight_layout()\n",
    "        plt.plot(data['x'],y_pred)\n",
    "        plt.plot(data['x'],data['y'],'.')\n",
    "        plt.title('Plot for alpha: %.3g'%alpha)\n",
    "    \n",
    "    #Return the result in pre-defined format\n",
    "    rss = sum((y_pred-data['y'])**2)\n",
    "    ret = [rss]\n",
    "    ret.extend([lassoreg.intercept_])\n",
    "    ret.extend(lassoreg.coef_)\n",
    "    return ret"
   ]
  },
  {
   "cell_type": "markdown",
   "metadata": {},
   "source": [
    "Notice the additional parameters defined in Lasso function – ‘max_iter‘. This is the maximum number of iterations for which we want the model to run if it doesn’t converge before. This exists for Ridge as as well but setting this to a higher than default value was required in this case. Why? I’ll come to this in next section, just keep it in the back of the envelope."
   ]
  },
  {
   "cell_type": "markdown",
   "metadata": {},
   "source": [
    "Lets check the output for 10 different values of alpha using the following code:"
   ]
  },
  {
   "cell_type": "code",
   "execution_count": 15,
   "metadata": {},
   "outputs": [
    {
     "data": {
      "image/png": "[encoded data removed]",
      "text/plain": [
       "<Figure size 864x720 with 6 Axes>"
      ]
     },
     "metadata": {
      "needs_background": "light"
     },
     "output_type": "display_data"
    }
   ],
   "source": [
    "#Initialize predictors to all 15 powers of x\n",
    "predictors=['x']\n",
    "predictors.extend(['x_%d'%i for i in range(2,16)])\n",
    "\n",
    "#Define the alpha values to test\n",
    "alpha_lasso = [1e-15, 1e-10, 1e-8, 1e-5,1e-4, 1e-3,1e-2, 1, 5, 10]\n",
    "\n",
    "#Initialize the dataframe to store coefficients\n",
    "col = ['rss','intercept'] + ['coef_x_%d'%i for i in range(1,16)]\n",
    "ind = ['alpha_%.2g'%alpha_lasso[i] for i in range(0,10)]\n",
    "coef_matrix_lasso = pd.DataFrame(index=ind, columns=col)\n",
    "\n",
    "#Define the models to plot\n",
    "models_to_plot = {1e-10:231, 1e-5:232,1e-4:233, 1e-3:234, 1e-2:235, 1:236}\n",
    "\n",
    "#Iterate over the 10 alpha values:\n",
    "for i in range(10):\n",
    "    coef_matrix_lasso.iloc[i,] = lasso_regression(data, predictors, alpha_lasso[i], models_to_plot)"
   ]
  },
  {
   "cell_type": "markdown",
   "metadata": {},
   "source": [
    "This again tells us that the model complexity decreases with increase in the values of alpha. But notice the straight line at alpha=1. Appears a bit strange to me. Let’s explore this further by looking at the coefficients:"
   ]
  },
  {
   "cell_type": "markdown",
   "metadata": {},
   "source": [
    "<img src='img/rig_3.png'>"
   ]
  },
  {
   "cell_type": "markdown",
   "metadata": {},
   "source": [
    "Apart from the expected inference of higher RSS for higher alphas, we can see the following:"
   ]
  },
  {
   "cell_type": "markdown",
   "metadata": {},
   "source": [
    "<ol>\n",
    "<li>For the same values of alpha, the coefficients of lasso regression are much smaller as compared to that of ridge regression (compare row 1 of the 2 tables).</li>\n",
    "<li>For the same alpha, lasso has higher RSS (poorer fit) as compared to ridge regression</li>\n",
    "<li>Many of the coefficients are zero even for very small values of alpha</li>\n",
    "</ol>"
   ]
  },
  {
   "cell_type": "markdown",
   "metadata": {},
   "source": [
    "Inferences #1,2 might not generalize always but will hold for many cases. The real difference from ridge is coming out in the last inference. Lets check the number of coefficients which are zero in each model using following code:"
   ]
  },
  {
   "cell_type": "code",
   "execution_count": 17,
   "metadata": {},
   "outputs": [
    {
     "data": {
      "text/plain": [
       "alpha_1e-15      0\n",
       "alpha_1e-10      0\n",
       "alpha_1e-08      0\n",
       "alpha_1e-05      8\n",
       "alpha_0.0001    10\n",
       "alpha_0.001     12\n",
       "alpha_0.01      13\n",
       "alpha_1         15\n",
       "alpha_5         15\n",
       "alpha_10        15\n",
       "dtype: int64"
      ]
     },
     "execution_count": 17,
     "metadata": {},
     "output_type": "execute_result"
    }
   ],
   "source": [
    "coef_matrix_lasso.apply(lambda x: sum(x.values==0),axis=1)"
   ]
  },
  {
   "cell_type": "markdown",
   "metadata": {},
   "source": [
    "We can observe that <b>even for a small value of alpha, a significant number of coefficients are zero.</b> This also explains the horizontal line fit for alpha=1 in the lasso plots, its just a baseline model! This phenomenon of most of the coefficients being zero is called <b>‘sparsity‘</b>. Although lasso performs feature selection, this level of sparsity is achieved in special cases only which we’ll discuss towards the end."
   ]
  },
  {
   "cell_type": "markdown",
   "metadata": {},
   "source": [
    "This has some really interesting implications on the use cases of lasso regression as compared to that of ridge regression. But before coming to the final comparison, lets take a <b>bird’s eye view</b> of the mathematics behind why coefficients are zero in case of lasso but not ridge."
   ]
  },
  {
   "cell_type": "code",
   "execution_count": null,
   "metadata": {},
   "outputs": [],
   "source": [
    "'''\n",
    "LINEAR, RIDGE AND LASSO REGRESSION\n",
    "'''\n",
    "# importing requuired libraries\n",
    "import numpy as np\n",
    "import pandas as pd\n",
    "from pandas import Series, DataFrame\n",
    "from sklearn.model_selection import train_test_split\n",
    "from sklearn.linear_model import LinearRegression\n",
    "from sklearn.linear_model import Lasso, Ridge\n",
    "\n",
    "# read test and train file\n",
    "train = pd.read_csv('train.csv')\n",
    "test = pd.read_csv('test.csv')\n",
    "\n",
    "print('\\n\\n---------DATA---------------\\n\\n')\n",
    "print(train.head())\n",
    "\n",
    "#splitting into training and test\n",
    "## try building model with the different features and compare the result.\n",
    "X = train.loc[:,['Outlet_Establishment_Year','Item_MRP']]\n",
    "x_train, x_cv, y_train, y_cv = train_test_split(X,train.Item_Outlet_Sales,random_state=5)\n",
    "\n",
    "print('--------Trainig Linear Regression Model---------------')\n",
    "lreg = LinearRegression()\n",
    "#training the model\n",
    "lreg.fit(x_train,y_train)\n",
    "\n",
    "#predicting on cv\n",
    "pred = lreg.predict(x_cv)\n",
    "\n",
    "#calculating mse\n",
    "mse = np.mean((pred - y_cv)**2)\n",
    "print('\\nMean Sqaured Error = ',mse )\n",
    "\n",
    "#Let us take a look at the coefficients of this linear regression model.\n",
    "# calculating coefficients\n",
    "coeff = DataFrame(x_train.columns)\n",
    "\n",
    "coeff['Coefficient Estimate'] = Series(lreg.coef_)\n",
    "\n",
    "print(coeff)\n",
    "\n",
    "print('\\n\\nModel performance on Test data = ')\n",
    "print(lreg.score(x_cv,y_cv))\n",
    "\n",
    "print('\\n\\n---------Training Ridge Regression Model----------------')\n",
    "\n",
    "ridge = Ridge()\n",
    "ridge.fit(x_train,y_train)\n",
    "pred1 = ridge.predict(x_cv)\n",
    "mse_1 = np.mean((pred1-y_cv)**2)\n",
    "\n",
    "print('\\n\\nMean Squared Error = ',mse_1)\n",
    "\n",
    "# calculating coefficients\n",
    "coeff = DataFrame(x_train.columns)\n",
    "coeff['Coefficient Estimate'] = Series(ridge.coef_)\n",
    "print(coeff)\n",
    "\n",
    "print('\\n\\nModel performance on Test data = ')\n",
    "print(ridge.score(x_cv,y_cv))\n",
    "\n",
    "\n",
    "print('\\n\\n---------Training Lasso Regression Model----------------')\n",
    "\n",
    "lasso = Lasso()\n",
    "lasso.fit(x_train,y_train)\n",
    "pred2 = lasso.predict(x_cv)\n",
    "mse_2 = np.mean((pred2-y_cv)**2)\n",
    "\n",
    "print('\\n\\nMean Squared Error = ',mse_2)\n",
    "\n",
    "# calculating coefficients\n",
    "coeff = DataFrame(x_train.columns)\n",
    "coeff['Coefficient Estimate'] = Series(lasso.coef_)\n",
    "print(coeff)\n",
    "\n",
    "print('\\n\\nModel performance on Test data = ')\n",
    "print(lasso.score(x_cv,y_cv))"
   ]
  },
  {
   "cell_type": "markdown",
   "metadata": {},
   "source": [
    "# 5. Sneak Peak into Statistics (Optional)"
   ]
  },
  {
   "cell_type": "markdown",
   "metadata": {},
   "source": [
    "Let’s start by reviewing the basic structure of data in a regression problem."
   ]
  },
  {
   "cell_type": "markdown",
   "metadata": {},
   "source": [
    "<img src='img/rig_4.png'>"
   ]
  },
  {
   "cell_type": "markdown",
   "metadata": {},
   "source": [
    "In this infographic, you can see there are 4 data elements:"
   ]
  },
  {
   "cell_type": "markdown",
   "metadata": {},
   "source": [
    "<ol>\n",
    "<li><b>X:</b>the matrix of input features (nrow: N, ncol: M+1)</li>\n",
    "<li><b>Y:</b> the actual outcome variable (length:N)</li>\n",
    "<li><b>Yhat:</b>these are predicted values of Y (length:N)</li>\n",
    "<li><b>W:</b>the weights or the coefficients (length: M+1)</li>\n",
    "</ol>"
   ]
  },
  {
   "cell_type": "markdown",
   "metadata": {},
   "source": [
    "Here, N is the total number of data points available and M is the total number of features. X has M+1 columns because of M features and 1 intercept."
   ]
  },
  {
   "cell_type": "markdown",
   "metadata": {},
   "source": [
    "The predicted outcome for any data point i is:"
   ]
  },
  {
   "cell_type": "markdown",
   "metadata": {},
   "source": [
    "<img src='img/rig_5.png'>"
   ]
  },
  {
   "cell_type": "markdown",
   "metadata": {},
   "source": [
    "It is simply the weighted sum of each data point with coefficients as the weights. This prediction is achieved by finding the optimum value of weights based on certain criteria, which depends on the type of regression algorithm being used. Lets consider all 3 cases:"
   ]
  },
  {
   "cell_type": "markdown",
   "metadata": {},
   "source": [
    "### 1. Simple Linear Regression"
   ]
  },
  {
   "cell_type": "markdown",
   "metadata": {},
   "source": [
    "The objective function (also called as the cost) to be minimized is just the RSS (Residual Sum of Squares), i.e. the sum of squared errors of the predicted outcome as compared to the actual outcome. This can be depicted mathematically as:\n",
    "\n"
   ]
  },
  {
   "cell_type": "markdown",
   "metadata": {},
   "source": [
    "<img src='img/rig_6.png'>"
   ]
  },
  {
   "cell_type": "markdown",
   "metadata": {},
   "source": [
    "In order to minimize this cost, we generally use a ‘gradient descent’ algorithm. I’ll not go into the details right now but you can refer this. The overall algorithm works as:"
   ]
  },
  {
   "cell_type": "raw",
   "metadata": {},
   "source": [
    "1. initialize weights (say w=0)\n",
    "2. iterate till not converged\n",
    "   2.1 iterate over all features (j=0,1...M)\n",
    "       2.1.1 determine the gradient\n",
    "       2.1.2 update the jth weight by subtracting learning rate times the gradient\n",
    "             w(t+1) = w(t) - learning rate * gradient"
   ]
  },
  {
   "cell_type": "markdown",
   "metadata": {},
   "source": [
    "Here the important step is #2.1.1 where we compute the gradient. Gradient is nothing but a partial differential of the cost with respect to a particular weight (denoted as w<sub>j</sub>). The gradient for the j<sup>th</sup> weight will be:"
   ]
  },
  {
   "cell_type": "markdown",
   "metadata": {},
   "source": [
    "<img src='img/rig_7.png'>"
   ]
  },
  {
   "cell_type": "markdown",
   "metadata": {},
   "source": [
    "This is formed from 2 parts:"
   ]
  },
  {
   "cell_type": "markdown",
   "metadata": {},
   "source": [
    "<ol>\n",
    "<li>2*{..} : This is formed because we’ve differentiated the square of the term in {..}</li>\n",
    "    <li>-w<sub>j</sub> : This is the differentiation of the part in {..} wrt wj. Since its a summation, all other would become 0 and only w<sub>j</sub> would remain.</li>\n",
    "</ol>"
   ]
  },
  {
   "cell_type": "markdown",
   "metadata": {},
   "source": [
    "Step #2.1.2 involves updating the weights using the gradient. This update step for simple linear regression looks like:"
   ]
  },
  {
   "cell_type": "markdown",
   "metadata": {},
   "source": [
    "<img src='img/rig_8.png'>"
   ]
  },
  {
   "cell_type": "markdown",
   "metadata": {},
   "source": [
    "I hope you are able to follow along. Note the +ve sign in the RHS is formed after multiplication of 2 -ve signs. I would like to explain point #2 of the gradient descent algorithm mentioned above <b>‘iterate till not converged‘</b>. Here convergence refers to attaining the optimum solution within pre-defined limit."
   ]
  },
  {
   "cell_type": "markdown",
   "metadata": {},
   "source": [
    "It is checked using the value of gradient. If the gradient is small enough, that means we are very close to optimum and further iterations won’t have a substantial impact on coefficients. The lower-limit on gradient can be changed using the <b>‘tol‘</b> parameter."
   ]
  },
  {
   "cell_type": "markdown",
   "metadata": {},
   "source": [
    "Lets consider the case of ridge regression now."
   ]
  },
  {
   "cell_type": "markdown",
   "metadata": {},
   "source": [
    "### 2. Ridge Regression"
   ]
  },
  {
   "cell_type": "markdown",
   "metadata": {},
   "source": [
    "The objective function (also called the cost) to be minimized is the RSS plus the sum of square of the magnitude of weights. This can be depicted mathematically as:"
   ]
  },
  {
   "cell_type": "markdown",
   "metadata": {},
   "source": [
    "<img src='img/rig_9.png'>"
   ]
  },
  {
   "cell_type": "markdown",
   "metadata": {},
   "source": [
    "In this case, the gradient would be:"
   ]
  },
  {
   "cell_type": "markdown",
   "metadata": {},
   "source": [
    "<img src='img/rig_10.png'>"
   ]
  },
  {
   "cell_type": "markdown",
   "metadata": {},
   "source": [
    "Again in the regularization part of gradient, only wj remains and all other would become zero. The corresponding update rule is:"
   ]
  },
  {
   "cell_type": "markdown",
   "metadata": {},
   "source": [
    "<img src='img/rig_11.png'>"
   ]
  },
  {
   "cell_type": "markdown",
   "metadata": {},
   "source": [
    "Here we can see that second part of the RHS is same as that of simple linear regression. Thus, ridge regression is equivalent to reducing the weight by a factor of (1-2λη) first and then applying the same update rule as simple linear regression. I hope this gives some intuition into why the coefficients get reduced to small numbers but never become zero."
   ]
  },
  {
   "cell_type": "markdown",
   "metadata": {},
   "source": [
    "Note that the criteria for convergence in this case remains similar to simple linear regression, i.e. checking the value of gradients. Lets discuss Lasso regression now."
   ]
  },
  {
   "cell_type": "markdown",
   "metadata": {},
   "source": [
    "### 3. Lasso Regression"
   ]
  },
  {
   "cell_type": "markdown",
   "metadata": {},
   "source": [
    "The objective function (also called the cost) to be minimized is the RSS plus the sum of absolute value of the magnitude of weights. This can be depicted mathematically as:"
   ]
  },
  {
   "cell_type": "markdown",
   "metadata": {},
   "source": [
    "<img src='img/rig_12.png'>"
   ]
  },
  {
   "cell_type": "markdown",
   "metadata": {},
   "source": [
    "In this case, the gradient is not defined as the absolute function is not differentiable at x=0. This can be illustrated as:"
   ]
  },
  {
   "cell_type": "markdown",
   "metadata": {},
   "source": [
    "<img src='img/rig_13.png'>"
   ]
  },
  {
   "cell_type": "markdown",
   "metadata": {},
   "source": [
    "We can see that the parts on the left and right side of 0 are straight lines with defined derivates but the function can’t be differentiated at x=0. In this case, we have to use a different technique called as <b>coordinate descent</b> which is based on the concept of sub-gradients. One of the coordinate descent follows the following algorithms (this is also the default in sklearn):"
   ]
  },
  {
   "cell_type": "raw",
   "metadata": {},
   "source": [
    "1. initialize weights (say w=0)\n",
    "2. iterate till not converged\n",
    "   2.1 iterate over all features (j=0,1...M)\n",
    "       2.1.1 update the jth weight with a value which minimizes the cost"
   ]
  },
  {
   "cell_type": "markdown",
   "metadata": {},
   "source": [
    "#2.1.1 might look too generalized. But I’m intentionally leaving the details and jumping to the update rule:"
   ]
  },
  {
   "cell_type": "markdown",
   "metadata": {},
   "source": [
    "<img src='img/rig_14.png'>"
   ]
  },
  {
   "cell_type": "markdown",
   "metadata": {},
   "source": [
    "Here <b>g(w<sub>-j</sub>)</b>represents (but not exactly) the difference between actual outcome and the predicted outcome considering <b>all EXCEPT the j<sup>th</sup> variable.</b> If this value is small, it means that the algorithm is able to predict the outcome fairly well even without the jth variable and thus it can be removed from the equation by setting a zero coefficient. This gives us some intuition into why the coefficients become zero in case of lasso regression."
   ]
  },
  {
   "cell_type": "markdown",
   "metadata": {},
   "source": [
    "In coordinate descent, checking convergence is another issue. Since gradients are not defined, we need an alternate method. Many alternatives exist but the simplest one is to <b>check the step size of the algorithm.</b> We can check the maximum difference in weights in any particular cycle over all feature weights (#2.1 of algo above)."
   ]
  },
  {
   "cell_type": "markdown",
   "metadata": {},
   "source": [
    "If this is lower than ‘tol’ specified, algo will stop. The convergence is not as fast as gradient descent and we might have to set the ‘max_iter’ parameter if a warning appears saying that the algo stopped before convergence. This is why I specified this parameter in the Lasso generic function."
   ]
  },
  {
   "cell_type": "markdown",
   "metadata": {},
   "source": [
    "Lets summarize our understanding by comparing the coefficients in all the three cases using the following visual, which shows how the ridge and lasso coefficients behave in comparison to the simple linear regression case."
   ]
  },
  {
   "cell_type": "markdown",
   "metadata": {},
   "source": [
    "<img src='img/rig_15.png'>"
   ]
  },
  {
   "cell_type": "markdown",
   "metadata": {},
   "source": [
    "Apologies for the lack of visual appeal. But I think it is good enough to re-inforced the following facts:"
   ]
  },
  {
   "cell_type": "markdown",
   "metadata": {},
   "source": [
    "<ol>\n",
    "<li>The ridge coefficients are a reduced factor of the simple linear regression coefficients and thus never attain zero values but very small values</li>\n",
    "<li>The lasso coefficients become zero in a certain range and are reduced by a constant factor, which explains there low magnitude in comparison to ridge.</li>\n",
    "</ol>"
   ]
  },
  {
   "cell_type": "markdown",
   "metadata": {},
   "source": [
    "Before going further, one important issue in case of both ridge and lasso regression is <b>intercept handling</b>. Generally, regularizing the intercept is not a good idea and it should be left out of regularization. This requires slight changes in the implementation, which I’ll leave for you to explore."
   ]
  },
  {
   "cell_type": "markdown",
   "metadata": {},
   "source": [
    "Now, lets come to the concluding part where we compare the Ridge and Lasso techniques and see where these can be used."
   ]
  },
  {
   "cell_type": "markdown",
   "metadata": {},
   "source": [
    "### 6. Conclusion"
   ]
  },
  {
   "cell_type": "markdown",
   "metadata": {},
   "source": [
    "Now that we have a fair idea of how ridge and lasso regression work, lets try to consolidate our understanding by comparing them and try to appreciate their specific use cases. I will also compare them with some alternate approaches. Lets analyze these under three buckets:"
   ]
  },
  {
   "cell_type": "markdown",
   "metadata": {},
   "source": [
    "### 1. Key Difference"
   ]
  },
  {
   "cell_type": "markdown",
   "metadata": {},
   "source": [
    "<ul>\n",
    "<li><b>Ridge:</b> It includes all (or none) of the features in the model. Thus, the major advantage of ridge regression is coefficient shrinkage and reducing model complexity.</li>\n",
    "<li><b>Lasso:</b>Along with shrinking coefficients, lasso performs feature selection as well. (Remember the ‘selection‘ in the lasso full-form?) As we observed earlier, some of the coefficients become exactly zero, which is equivalent to the particular feature being excluded from the model.</li>\n",
    "</ul>"
   ]
  },
  {
   "cell_type": "markdown",
   "metadata": {},
   "source": [
    "Traditionally, techniques like <b>stepwise regression</b> were used to perform feature selection and make parsimonious models. But with advancements in Machine Learning, ridge and lasso regression provide very good alternatives as they give much <b>better output,</b> require <b>fewer tuning parameters</b> and can be <b>automated</b> to a large extend."
   ]
  },
  {
   "cell_type": "markdown",
   "metadata": {},
   "source": [
    "### 2. Typical Use Cases"
   ]
  },
  {
   "cell_type": "markdown",
   "metadata": {},
   "source": [
    "<ul>\n",
    "<li><b>Ridge:</b>It is majorly used to prevent overfitting. Since it includes all the features, it is not very useful in case of exorbitantly high #features, say in millions, as it will pose computational challenges.</li>\n",
    "<li><b>Lasso:</b>Since it provides sparse solutions, it is generally the model of choice (or some variant of this concept) for modelling cases where the #features are in millions or more. In such a case, getting a sparse solution is of great computational advantage as the features with zero coefficients can simply be ignored.</li>\n",
    "</ul>"
   ]
  },
  {
   "cell_type": "markdown",
   "metadata": {},
   "source": [
    "Its not hard to see why the stepwise selection techniques become practically very cumbersome to implement in high dimensionality cases. Thus, lasso provides a significant advantage."
   ]
  },
  {
   "cell_type": "markdown",
   "metadata": {},
   "source": [
    "### 3. Presence of Highly Correlated Features"
   ]
  },
  {
   "cell_type": "markdown",
   "metadata": {},
   "source": [
    "<ul>\n",
    "<li><b>Ridge:</b> It generally works well even in presence of highly correlated features as it will include all of them in the model but the coefficients will be distributed among them depending on the correlation.</li>\n",
    "<li><b>Lasso:</b>It arbitrarily selects any one feature among the highly correlated ones and reduced the coefficients of the rest to zero. Also, the chosen variable changes randomly with change in model parameters. This generally doesn’t work that well as compared to ridge regression.</li>\n",
    "</ul>"
   ]
  },
  {
   "cell_type": "markdown",
   "metadata": {},
   "source": [
    "This disadvantage of lasso can be observed in the example we discussed above. Since we used a polynomial regression, the variables were highly correlated. ( Not sure why? Check the output of data.corr() ). Thus, we saw that even small values of alpha were giving significant sparsity (i.e. high #coefficients as zero)."
   ]
  },
  {
   "cell_type": "markdown",
   "metadata": {},
   "source": [
    "Along with Ridge and Lasso, Elastic Net is another useful techniques which combines both L1 and L2 regularization. It can be used to balance out the pros and cons of ridge and lasso regression. I encourage you to explore it further."
   ]
  },
  {
   "cell_type": "code",
   "execution_count": null,
   "metadata": {},
   "outputs": [],
   "source": []
  }
 ],
 "metadata": {
  "kernelspec": {
   "display_name": "Python 3",
   "language": "python",
   "name": "python3"
  },
  "language_info": {
   "codemirror_mode": {
    "name": "ipython",
    "version": 3
   },
   "file_extension": ".py",
   "mimetype": "text/x-python",
   "name": "python",
   "nbconvert_exporter": "python",
   "pygments_lexer": "ipython3",
   "version": "3.6.4"
  }
 },
 "nbformat": 4,
 "nbformat_minor": 4
}
